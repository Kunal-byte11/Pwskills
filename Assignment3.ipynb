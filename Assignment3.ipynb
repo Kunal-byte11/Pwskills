{
  "nbformat": 4,
  "nbformat_minor": 0,
  "metadata": {
    "colab": {
      "provenance": []
    },
    "kernelspec": {
      "name": "python3",
      "display_name": "Python 3"
    },
    "language_info": {
      "name": "python"
    }
  },
  "cells": [
    {
      "cell_type": "markdown",
      "source": [
        "\n",
        "\n",
        "### **Python Assignment Questions and Answers**\n",
        "\n",
        "---\n",
        "\n",
        "#### **1. What is the difference between a function and a method in Python?**\n",
        "- **Function**:\n",
        "  - A block of reusable code that performs a specific task.\n",
        "  - Defined using the `def` keyword.\n",
        "  - Can be called independently.\n",
        "  - Example:\n",
        "    ```python\n",
        "    def greet():\n",
        "        print(\"Hello!\")\n",
        "    greet()\n",
        "    ```\n",
        "- **Method**:\n",
        "  - A function that is associated with an object.\n",
        "  - Called on an object using dot notation.\n",
        "  - Example:\n",
        "    ```python\n",
        "    my_list = [1, 2, 3]\n",
        "    my_list.append(4)  # append() is a method\n",
        "    ```\n",
        "\n",
        "---\n",
        "\n",
        "#### **2. Explain the concept of function arguments and parameters in Python.**\n",
        "- **Parameter**:\n",
        "  - A variable listed inside the parentheses in the function definition.\n",
        "  - Example:\n",
        "    ```python\n",
        "    def add(a, b):  # a and b are parameters\n",
        "        return a + b\n",
        "    ```\n",
        "- **Argument**:\n",
        "  - The actual value passed to the function when it is called.\n",
        "  - Example:\n",
        "    ```python\n",
        "    add(2, 3)  # 2 and 3 are arguments\n",
        "    ```\n",
        "\n",
        "---\n",
        "\n",
        "#### **3. What are the different ways to define and call a function in Python?**\n",
        "- **Define a Function**:\n",
        "  - Use the `def` keyword.\n",
        "  - Example:\n",
        "    ```python\n",
        "    def greet(name):\n",
        "        print(f\"Hello, {name}!\")\n",
        "    ```\n",
        "- **Call a Function**:\n",
        "  - Use the function name followed by parentheses.\n",
        "  - Example:\n",
        "    ```python\n",
        "    greet(\"Alice\")\n",
        "    ```\n",
        "\n",
        "---\n",
        "\n",
        "#### **4. What is the purpose of the `return` statement in a Python function?**\n",
        "- The `return` statement is used to send a result back from a function to the caller.\n",
        "- If no `return` is specified, the function returns `None`.\n",
        "- Example:\n",
        "  ```python\n",
        "  def add(a, b):\n",
        "      return a + b\n",
        "  result = add(2, 3)  # result = 5\n",
        "  ```\n",
        "\n",
        "---\n",
        "\n",
        "#### **5. What are iterators in Python and how do they differ from iterables?**\n",
        "- **Iterable**:\n",
        "  - An object that can be looped over (e.g., lists, tuples, strings).\n",
        "  - Example:\n",
        "    ```python\n",
        "    my_list = [1, 2, 3]\n",
        "    for item in my_list:\n",
        "        print(item)\n",
        "    ```\n",
        "- **Iterator**:\n",
        "  - An object that represents a stream of data.\n",
        "  - Implements `__iter__()` and `__next__()` methods.\n",
        "  - Example:\n",
        "    ```python\n",
        "    my_iter = iter(my_list)\n",
        "    print(next(my_iter))  # Output: 1\n",
        "    ```\n",
        "\n",
        "---\n",
        "\n",
        "#### **6. Explain the concept of generators in Python and how they are defined.**\n",
        "- **Generators**:\n",
        "  - Functions that use the `yield` keyword to produce a sequence of values lazily (one at a time).\n",
        "- **Defined**:\n",
        "  - Using the `def` keyword and `yield`.\n",
        "  - Example:\n",
        "    ```python\n",
        "    def my_generator():\n",
        "        yield 1\n",
        "        yield 2\n",
        "        yield 3\n",
        "    for value in my_generator():\n",
        "        print(value)\n",
        "    ```\n",
        "\n",
        "---\n",
        "\n",
        "#### **7. What are the advantages of using generators over regular functions?**\n",
        "- **Memory Efficiency**:\n",
        "  - Generators produce values on-the-fly and do not store the entire sequence in memory.\n",
        "- **Lazy Evaluation**:\n",
        "  - Values are generated only when needed.\n",
        "- Example:\n",
        "  ```python\n",
        "  def infinite_sequence():\n",
        "      num = 0\n",
        "      while True:\n",
        "          yield num\n",
        "          num += 1\n",
        "  ```\n",
        "\n",
        "---\n",
        "\n",
        "#### **8. What is a lambda function in Python and when is it typically used?**\n",
        "- **Lambda Function**:\n",
        "  - A small anonymous function defined using the `lambda` keyword.\n",
        "  - Syntax: `lambda arguments: expression`.\n",
        "- **Use Case**:\n",
        "  - Typically used for short, simple operations.\n",
        "  - Example:\n",
        "    ```python\n",
        "    add = lambda x, y: x + y\n",
        "    print(add(2, 3))  # Output: 5\n",
        "    ```\n",
        "\n",
        "---\n",
        "\n",
        "#### **9. Explain the purpose and usage of the `map()` function in Python.**\n",
        "- **Purpose**:\n",
        "  - Applies a function to all items in an input list (or iterable).\n",
        "- **Usage**:\n",
        "  - Syntax: `map(function, iterable)`.\n",
        "  - Example:\n",
        "    ```python\n",
        "    numbers = [1, 2, 3]\n",
        "    squared = map(lambda x: x ** 2, numbers)\n",
        "    print(list(squared))  # Output: [1, 4, 9]\n",
        "    ```\n",
        "\n",
        "---\n",
        "\n",
        "#### **10. What is the difference between `map()`, `reduce()`, and `filter()` functions in Python?**\n",
        "- **`map()`**:\n",
        "  - Applies a function to all items in an iterable and returns a new iterable.\n",
        "  - Example:\n",
        "    ```python\n",
        "    numbers = [1, 2, 3]\n",
        "    squared = map(lambda x: x ** 2, numbers)\n",
        "    ```\n",
        "- **`filter()`**:\n",
        "  - Filters items in an iterable based on a condition and returns a new iterable.\n",
        "  - Example:\n",
        "    ```python\n",
        "    numbers = [1, 2, 3, 4]\n",
        "    even = filter(lambda x: x % 2 == 0, numbers)\n",
        "    ```\n",
        "- **`reduce()`**:\n",
        "  - Applies a function cumulatively to the items of an iterable, reducing it to a single value.\n",
        "  - Example:\n",
        "    ```python\n",
        "    from functools import reduce\n",
        "    numbers = [1, 2, 3, 4]\n",
        "    total = reduce(lambda x, y: x + y, numbers)\n",
        "    ```\n",
        "\n",
        "---\n",
        "\n",
        "#### **11. Using pen & Paper write the internal mechanism for sum operation using `reduce()` function on this given list: `[47, 11, 42, 13]`**\n",
        "\n",
        "**Steps**:\n",
        "1. Import `reduce` from `functools`.\n",
        "2. Define the list: `[47, 11, 42, 13]`.\n",
        "3. Apply `reduce()` with a lambda function: `lambda x, y: x + y`.\n",
        "4. The steps are:\n",
        "   - Step 1: `47 + 11 = 58`\n",
        "   - Step 2: `58 + 42 = 100`\n",
        "   - Step 3: `100 + 13 = 113`\n",
        "5. Final result: `113`.\n",
        "\n",
        "**Code Example**:\n",
        "```python\n",
        "from functools import reduce\n",
        "numbers = [47, 11, 42, 13]\n",
        "total = reduce(lambda x, y: x + y, numbers)\n",
        "print(total)  # Output: 113\n",
        "```\n",
        "\n"
      ],
      "metadata": {
        "id": "w3cGZbwT6GOn"
      }
    },
    {
      "cell_type": "code",
      "execution_count": null,
      "metadata": {
        "id": "fB13vfJaxn9f"
      },
      "outputs": [],
      "source": []
    },
    {
      "cell_type": "markdown",
      "source": [
        "##Coding##"
      ],
      "metadata": {
        "id": "BEwpytaw8Rex"
      }
    },
    {
      "cell_type": "code",
      "source": [],
      "metadata": {
        "id": "LSBJMdCk8OOc"
      },
      "execution_count": null,
      "outputs": []
    },
    {
      "cell_type": "markdown",
      "source": [
        "1. Sum of Even Numbers"
      ],
      "metadata": {
        "id": "sKj9u5p08-wZ"
      }
    },
    {
      "cell_type": "code",
      "source": [
        "def sum_even(numbers):\n",
        "    return sum(num for num in numbers if num % 2 == 0)\n",
        "\n",
        "print(sum_even([1, 2, 3, 4, 5]))"
      ],
      "metadata": {
        "colab": {
          "base_uri": "https://localhost:8080/"
        },
        "id": "rA5I8sQ28_oa",
        "outputId": "95df40a8-0ce2-4d6a-e3bf-d0dd7d2f4789"
      },
      "execution_count": null,
      "outputs": [
        {
          "output_type": "stream",
          "name": "stdout",
          "text": [
            "6\n"
          ]
        }
      ]
    },
    {
      "cell_type": "markdown",
      "source": [
        " 2.Create a Python function that accepts a string and returns the reverse of that string\n",
        "\n"
      ],
      "metadata": {
        "id": "YB5h1ck59ggj"
      }
    },
    {
      "cell_type": "code",
      "source": [
        "def reverse_string(s):\n",
        "    return s[::-1]\n",
        "\n",
        "print(reverse_string(\"hello\"))"
      ],
      "metadata": {
        "colab": {
          "base_uri": "https://localhost:8080/"
        },
        "id": "QWReA8C99ki3",
        "outputId": "ea070191-628c-4518-9e34-2acf87afe1ff"
      },
      "execution_count": null,
      "outputs": [
        {
          "output_type": "stream",
          "name": "stdout",
          "text": [
            "olleh\n"
          ]
        }
      ]
    },
    {
      "cell_type": "markdown",
      "source": [],
      "metadata": {
        "id": "A9YwtGFJ97yJ"
      }
    },
    {
      "cell_type": "markdown",
      "source": [
        "3. Implement a Python function that takes a list of integers and returns a new list containing the squares of\n",
        "each number"
      ],
      "metadata": {
        "id": "Szvkh-Tm9-vx"
      }
    },
    {
      "cell_type": "code",
      "source": [
        "def square_list(nums):\n",
        "    return [num ** 2 for num in nums]\n",
        "print(square_list([1, 2, 3]))"
      ],
      "metadata": {
        "colab": {
          "base_uri": "https://localhost:8080/"
        },
        "id": "K3j6wNbf911S",
        "outputId": "9e5d1e4a-001e-4f27-f92a-bd4109271459"
      },
      "execution_count": null,
      "outputs": [
        {
          "output_type": "stream",
          "name": "stdout",
          "text": [
            "[1, 4, 9]\n"
          ]
        }
      ]
    },
    {
      "cell_type": "markdown",
      "source": [
        "4. Write a Python function that checks if a given number is prime or not from 1 to 200"
      ],
      "metadata": {
        "id": "m-8MAgoK-HsA"
      }
    },
    {
      "cell_type": "code",
      "source": [
        "def is_prime(n):\n",
        "    if n <= 1:\n",
        "        return False\n",
        "    for i in range(2, int(n ** 0.5) + 1):\n",
        "        if n % i == 0:\n",
        "            return False\n",
        "    return True\n",
        "prime_numbers = [num for num in range(1, 201) if is_prime(num)]\n",
        "print(prime_numbers)"
      ],
      "metadata": {
        "colab": {
          "base_uri": "https://localhost:8080/"
        },
        "id": "knNlx-iS-Icx",
        "outputId": "51219a4d-9854-41fd-e414-d447a72b6bef"
      },
      "execution_count": null,
      "outputs": [
        {
          "output_type": "stream",
          "name": "stdout",
          "text": [
            "[2, 3, 5, 7, 11, 13, 17, 19, 23, 29, 31, 37, 41, 43, 47, 53, 59, 61, 67, 71, 73, 79, 83, 89, 97, 101, 103, 107, 109, 113, 127, 131, 137, 139, 149, 151, 157, 163, 167, 173, 179, 181, 191, 193, 197, 199]\n"
          ]
        }
      ]
    },
    {
      "cell_type": "markdown",
      "source": [
        "5. Create an iterator class in Python that generates the Fibonacci sequence up to a specified number of\n",
        "terms."
      ],
      "metadata": {
        "id": "a77ez0Ap-Rv4"
      }
    },
    {
      "cell_type": "code",
      "source": [
        "class FibonacciIterator:\n",
        "    def __init__(self, terms):\n",
        "        self.terms = terms\n",
        "        self.a, self.b = 0, 1\n",
        "        self.count = 0\n",
        "\n",
        "    def __iter__(self):\n",
        "        return self\n",
        "\n",
        "    def __next__(self):\n",
        "        if self.count >= self.terms:\n",
        "            raise StopIteration\n",
        "        result = self.a\n",
        "        self.a, self.b = self.b, self.a + self.b\n",
        "        self.count += 1\n",
        "        return result\n",
        "fib = FibonacciIterator(10)\n",
        "print(list(fib))"
      ],
      "metadata": {
        "colab": {
          "base_uri": "https://localhost:8080/"
        },
        "id": "oA5Z_eRu-OUu",
        "outputId": "87acf873-7d09-4dab-e55a-b287930fd779"
      },
      "execution_count": null,
      "outputs": [
        {
          "output_type": "stream",
          "name": "stdout",
          "text": [
            "[0, 1, 1, 2, 3, 5, 8, 13, 21, 34]\n"
          ]
        }
      ]
    },
    {
      "cell_type": "code",
      "source": [],
      "metadata": {
        "id": "JF1j2_P3-e79"
      },
      "execution_count": null,
      "outputs": []
    },
    {
      "cell_type": "markdown",
      "source": [
        "6. Write a generator function in Python that yields the powers of 2 up to a given exponent"
      ],
      "metadata": {
        "id": "5_JOH5IB-f7k"
      }
    },
    {
      "cell_type": "code",
      "source": [
        "def power_of_two(exponent):\n",
        "    for i in range(exponent + 1):\n",
        "        yield 2 ** i\n",
        "print(list(power_of_two(5)))"
      ],
      "metadata": {
        "colab": {
          "base_uri": "https://localhost:8080/"
        },
        "id": "n8pbVP0Z-igH",
        "outputId": "4c6eda06-d5c7-4d8a-b55f-225c68a65133"
      },
      "execution_count": null,
      "outputs": [
        {
          "output_type": "stream",
          "name": "stdout",
          "text": [
            "[1, 2, 4, 8, 16, 32]\n"
          ]
        }
      ]
    },
    {
      "cell_type": "markdown",
      "source": [
        "7. Implement a generator function that reads a file line by line and yields each line as a string."
      ],
      "metadata": {
        "id": "XD_BZ0VI-rCY"
      }
    },
    {
      "cell_type": "code",
      "source": [
        "def read_file_lines(filename):\n",
        "    with open(filename, 'r') as file:\n",
        "        for line in file:\n",
        "            yield line.strip()"
      ],
      "metadata": {
        "id": "Qj4XRbkS-krT"
      },
      "execution_count": null,
      "outputs": []
    },
    {
      "cell_type": "code",
      "source": [],
      "metadata": {
        "id": "Ep8tJ6fW-v-l"
      },
      "execution_count": null,
      "outputs": []
    },
    {
      "cell_type": "markdown",
      "source": [
        "8. Use a lambda function in Python to sort a list of tuples based on the second element of each tuple."
      ],
      "metadata": {
        "id": "zko5W7_s-3f6"
      }
    },
    {
      "cell_type": "code",
      "source": [
        "my_list = [(\"apple\", 50), (\"banana\", 20), (\"cherry\", 30)]\n",
        "sorted_list = sorted(my_list, key=lambda x: x[1])\n",
        "print(sorted_list)"
      ],
      "metadata": {
        "colab": {
          "base_uri": "https://localhost:8080/"
        },
        "id": "ezesBIZ3-4Rk",
        "outputId": "bdf49c7e-2aa7-442c-8bb1-b8ec3ee16126"
      },
      "execution_count": null,
      "outputs": [
        {
          "output_type": "stream",
          "name": "stdout",
          "text": [
            "[('banana', 20), ('cherry', 30), ('apple', 50)]\n"
          ]
        }
      ]
    },
    {
      "cell_type": "code",
      "source": [],
      "metadata": {
        "id": "ltemW6K1-6nM"
      },
      "execution_count": null,
      "outputs": []
    },
    {
      "cell_type": "markdown",
      "source": [
        "9. Write a Python program that uses `map()` to convert a list of temperatures from Celsius to Fahrenheit."
      ],
      "metadata": {
        "id": "TpowVSSF-__4"
      }
    },
    {
      "cell_type": "code",
      "source": [
        "celsius_temps = [0, 10, 20, 30, 40]\n",
        "fahrenheit_temps = list(map(lambda c: (9/5) * c + 32, celsius_temps))\n",
        "print(fahrenheit_temps)"
      ],
      "metadata": {
        "colab": {
          "base_uri": "https://localhost:8080/"
        },
        "id": "0YJCNaAQ_A0w",
        "outputId": "b50b8357-f060-4e82-e808-7dbf3b8acbd1"
      },
      "execution_count": null,
      "outputs": [
        {
          "output_type": "stream",
          "name": "stdout",
          "text": [
            "[32.0, 50.0, 68.0, 86.0, 104.0]\n"
          ]
        }
      ]
    },
    {
      "cell_type": "markdown",
      "source": [
        "10. Create a Python program that uses `filter()` to remove all the vowels from a given string"
      ],
      "metadata": {
        "id": "TcJumW5g_In5"
      }
    },
    {
      "cell_type": "code",
      "source": [
        "def remove_vowels(s):\n",
        "    vowels = {'a', 'e', 'i', 'o', 'u', 'A', 'E', 'I', 'O', 'U'}\n",
        "    return ''.join(filter(lambda char: char not in vowels, s))\n",
        "print(remove_vowels(\"Hello World\"))"
      ],
      "metadata": {
        "colab": {
          "base_uri": "https://localhost:8080/"
        },
        "id": "t2sL0JY4_Jal",
        "outputId": "55a5f2db-d34e-4b3b-839e-e7ee6eebe2c3"
      },
      "execution_count": null,
      "outputs": [
        {
          "output_type": "stream",
          "name": "stdout",
          "text": [
            "Hll Wrld\n"
          ]
        }
      ]
    },
    {
      "cell_type": "code",
      "source": [
        "#11\n",
        "orders = [\n",
        "    [1, 10.0, 5],  # Order 1: 10.0 * 5 = 50.0 → 50 + 10 = 60\n",
        "    [2, 25.0, 4],   # Order 2: 25 * 4 = 100 → remains 100\n",
        "    [3, 5.0, 20]    # Order 3: 5 * 20 = 100 → remains 100\n",
        "]\n",
        "\n",
        "processed_orders = list(map(\n",
        "    lambda order: (order[0], order[1] * order[2] + 10 if order[1] * order[2] < 100 else order[1] * order[2]),\n",
        "    orders\n",
        "))\n",
        "\n",
        "print(processed_orders)"
      ],
      "metadata": {
        "colab": {
          "base_uri": "https://localhost:8080/"
        },
        "id": "U0Fq_aG9_MF8",
        "outputId": "41703689-54c3-419d-94c1-b56fd0744781"
      },
      "execution_count": null,
      "outputs": [
        {
          "output_type": "stream",
          "name": "stdout",
          "text": [
            "[(1, 60.0), (2, 100.0), (3, 100.0)]\n"
          ]
        }
      ]
    },
    {
      "cell_type": "markdown",
      "source": [
        "12.Write a Python program, which returns a list with 2-tuples. Each tuple consists of the order number and the\n",
        "product of the price per item and the quantity. The product should be increased by 10,- € if the value of the\n",
        "order is smaller than 100,00 €"
      ],
      "metadata": {
        "id": "0l6QIemp_dS_"
      }
    },
    {
      "cell_type": "code",
      "source": [
        "\n",
        "orders = [\n",
        "    [1, 10.0, 5],\n",
        "    [2, 25.0, 4],\n",
        "    [3, 5.0, 20],\n",
        "    [4, 15.0, 3]\n",
        "]\n",
        "\n",
        "processed_orders = list(map(\n",
        "    lambda order: (\n",
        "        order[0],\n",
        "        (order[1] * order[2]) + 10 if (order[1] * order[2]) < 100\n",
        "        else (order[1] * order[2])\n",
        "    ),\n",
        "    orders\n",
        "))\n",
        "\n",
        "print(processed_orders)"
      ],
      "metadata": {
        "colab": {
          "base_uri": "https://localhost:8080/"
        },
        "id": "7uIV6ZSQ_VKK",
        "outputId": "452ecf3f-bf0c-4f97-a0d8-1c33a30a062f"
      },
      "execution_count": null,
      "outputs": [
        {
          "output_type": "stream",
          "name": "stdout",
          "text": [
            "[(1, 60.0), (2, 100.0), (3, 100.0), (4, 55.0)]\n"
          ]
        }
      ]
    },
    {
      "cell_type": "code",
      "source": [],
      "metadata": {
        "id": "4jkmk8vV_0wA"
      },
      "execution_count": null,
      "outputs": []
    }
  ]
}