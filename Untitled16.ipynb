{
  "nbformat": 4,
  "nbformat_minor": 0,
  "metadata": {
    "colab": {
      "provenance": []
    },
    "kernelspec": {
      "name": "python3",
      "display_name": "Python 3"
    },
    "language_info": {
      "name": "python"
    }
  },
  "cells": [
    {
      "cell_type": "markdown",
      "source": [
        "#Theory"
      ],
      "metadata": {
        "id": "TmruA--8q9qk"
      }
    },
    {
      "cell_type": "markdown",
      "source": [
        "###1. What is the difference between interpreted and compiled languages?"
      ],
      "metadata": {
        "id": "9cAYR5GMq5Lf"
      }
    },
    {
      "cell_type": "markdown",
      "source": [
        "Interpreted: Code is executed line-by-line at runtime (e.g., Python).\n",
        "\n",
        "Compiled: Code is translated into machine code before execution (e.g., C, C++).\n",
        "\n",
        "Python is an interpreted language."
      ],
      "metadata": {
        "id": "S6xWe6UhrHIL"
      }
    },
    {
      "cell_type": "markdown",
      "source": [
        "###2. What is exception handling in Python?"
      ],
      "metadata": {
        "id": "iwDoxgYKrJ5R"
      }
    },
    {
      "cell_type": "markdown",
      "source": [
        "Exception handling is a way to handle runtime errors using:\n",
        "\n",
        "try – block of code to try\n",
        "\n",
        "except – handles the error\n",
        "\n",
        "finally – always runs\n",
        "\n",
        "else – runs if no exception occurs"
      ],
      "metadata": {
        "id": "v4Ov3QygrNOb"
      }
    },
    {
      "cell_type": "markdown",
      "source": [
        "### 3. What is the purpose of the finally block in exception handling?"
      ],
      "metadata": {
        "id": "D8Udbf0QrPba"
      }
    },
    {
      "cell_type": "markdown",
      "source": [
        "The finally block always executes, whether an exception occurs or not. It's used for cleanup actions like closing files or releasing resources.\n",
        "\n"
      ],
      "metadata": {
        "id": "yFmEPrTorR1-"
      }
    },
    {
      "cell_type": "markdown",
      "source": [
        "###4. What is logging in Python?"
      ],
      "metadata": {
        "id": "B9rzh2T0rTvQ"
      }
    },
    {
      "cell_type": "markdown",
      "source": [
        "Logging is used to track events that happen during program execution. It helps with debugging, auditing, and monitoring."
      ],
      "metadata": {
        "id": "QzK6oFABrWJm"
      }
    },
    {
      "cell_type": "markdown",
      "source": [
        "###5. What is the significance of the __del__ method in Python?"
      ],
      "metadata": {
        "id": "7GTJAR5HrX_1"
      }
    },
    {
      "cell_type": "markdown",
      "source": [
        "__del__ is a destructor method, called when an object is about to be destroyed. Useful for cleanup (e.g., closing a file or network connection).\n",
        "\n"
      ],
      "metadata": {
        "id": "6bLUIaOxradV"
      }
    },
    {
      "cell_type": "markdown",
      "source": [
        "###6. What is the difference between import and from ... import in Python?"
      ],
      "metadata": {
        "id": "E7PDebisrcQT"
      }
    },
    {
      "cell_type": "markdown",
      "source": [
        "import module: Access via module.function()\n",
        "\n",
        "from module import function: Access directly as function()"
      ],
      "metadata": {
        "id": "-BiKgIZ9reaH"
      }
    },
    {
      "cell_type": "markdown",
      "source": [
        "###7. How can you handle multiple exceptions in Python?"
      ],
      "metadata": {
        "id": "f5JGZZgDrgzR"
      }
    },
    {
      "cell_type": "markdown",
      "source": [
        "you can handle multiple exceptions by:\n",
        "\n",
        "python\n",
        "Copy\n",
        "Edit\n",
        "try:\n",
        "    # code\n",
        "except (TypeError, ValueError) as e:\n",
        "    print(e)\n",
        "Or use multiple except blocks."
      ],
      "metadata": {
        "id": "ukmFwKqUryLw"
      }
    },
    {
      "cell_type": "markdown",
      "source": [
        "###8. What is the purpose of the with statement when handling files in Python?"
      ],
      "metadata": {
        "id": "_PTUUc97rmFm"
      }
    },
    {
      "cell_type": "markdown",
      "source": [
        "with automatically handles file opening and ensures the file is closed, even if an exception occurs:\n",
        "\n",
        "python\n",
        "Copy\n",
        "Edit\n",
        "with open('file.txt') as f:\n",
        "    content = f.read()"
      ],
      "metadata": {
        "id": "W2PBHqP5r3Ul"
      }
    },
    {
      "cell_type": "markdown",
      "source": [
        "###9. What is the difference between multithreading and multiprocessing?"
      ],
      "metadata": {
        "id": "Oqah-RRhsCHK"
      }
    },
    {
      "cell_type": "markdown",
      "source": [
        "Multithreading: Multiple threads in the same process, good for I/O-bound tasks.\n",
        "\n",
        "Multiprocessing: Multiple processes, good for CPU-bound tasks (true parallelism)."
      ],
      "metadata": {
        "id": "k7aHM_ZRsGZo"
      }
    },
    {
      "cell_type": "markdown",
      "source": [
        "###10. What are the advantages of using logging in a program?\n"
      ],
      "metadata": {
        "id": "pExpdiHYsIbd"
      }
    },
    {
      "cell_type": "markdown",
      "source": [
        "Tracks issues in real-time\n",
        "\n",
        "Saves logs to files\n",
        "\n",
        "Can record different severity levels\n",
        "\n",
        "Helps in debugging production apps\n",
        "\n"
      ],
      "metadata": {
        "id": "oKyJTSBjsK2v"
      }
    },
    {
      "cell_type": "markdown",
      "source": [
        "### 11. What is memory management in Python?"
      ],
      "metadata": {
        "id": "eP_htm_KsORD"
      }
    },
    {
      "cell_type": "markdown",
      "source": [
        "Python uses:\n",
        "\n",
        "Automatic memory allocation\n",
        "\n",
        "Reference counting\n",
        "\n",
        "Garbage collection to manage memory usage\n",
        "\n"
      ],
      "metadata": {
        "id": "9SF6fdgksRRX"
      }
    },
    {
      "cell_type": "markdown",
      "source": [
        "### 12. What are the basic steps involved in exception handling in Python?"
      ],
      "metadata": {
        "id": "KesHyMTcsTMq"
      }
    },
    {
      "cell_type": "markdown",
      "source": [
        "Wrap risky code in a try block\n",
        "\n",
        "Handle errors in except\n",
        "\n",
        "Use else for success logic\n",
        "\n",
        "Use finally for cleanup\n",
        "\n"
      ],
      "metadata": {
        "id": "o2oLEG8rsVuI"
      }
    },
    {
      "cell_type": "markdown",
      "source": [
        "###13. Why is memory management important in Python?"
      ],
      "metadata": {
        "id": "pQNS7PuisX7l"
      }
    },
    {
      "cell_type": "markdown",
      "source": [
        "It:\n",
        "\n",
        "Prevents memory leaks\n",
        "\n",
        "Ensures optimal use of system resources\n",
        "\n",
        "Keeps applications stable and efficient"
      ],
      "metadata": {
        "id": "jil8tWCTsauw"
      }
    },
    {
      "cell_type": "markdown",
      "source": [
        "###14. What is the role of try and except in exception handling?"
      ],
      "metadata": {
        "id": "fxbaYR_Isc5a"
      }
    },
    {
      "cell_type": "markdown",
      "source": [
        "try: Code that may raise an error\n",
        "\n",
        "except: Handles the error gracefully without crashing the program"
      ],
      "metadata": {
        "id": "3Am_0kKSsfgv"
      }
    },
    {
      "cell_type": "markdown",
      "source": [
        "###15. How does Python's garbage collection system work?"
      ],
      "metadata": {
        "id": "T6tvzUCFshvA"
      }
    },
    {
      "cell_type": "markdown",
      "source": [
        "Uses reference counting + cyclic garbage collector\n",
        "\n",
        "Automatically deletes objects with zero references"
      ],
      "metadata": {
        "id": "IhimeZJ_spBU"
      }
    },
    {
      "cell_type": "markdown",
      "source": [
        "###16. What is the purpose of the else block in exception handling?"
      ],
      "metadata": {
        "id": "NUSVI5mgsp3y"
      }
    },
    {
      "cell_type": "markdown",
      "source": [
        "The else block runs only if no exception occurs in the try block. Useful for logic that should only run if everything succeeded."
      ],
      "metadata": {
        "id": "FugWgRnassRM"
      }
    },
    {
      "cell_type": "markdown",
      "source": [
        "###17. What are the common logging levels in Python?"
      ],
      "metadata": {
        "id": "hnclT0v6sufs"
      }
    },
    {
      "cell_type": "markdown",
      "source": [
        "From lowest to highest severity:\n",
        "\n",
        "DEBUG\n",
        "\n",
        "INFO\n",
        "\n",
        "WARNING\n",
        "\n",
        "ERROR\n",
        "\n",
        "CRITICAL"
      ],
      "metadata": {
        "id": "Hp4QljY6syYm"
      }
    },
    {
      "cell_type": "markdown",
      "source": [
        "###18. What is the difference between os.fork() and multiprocessing in Python?"
      ],
      "metadata": {
        "id": "dvPwH9axs2MH"
      }
    },
    {
      "cell_type": "markdown",
      "source": [
        "os.fork() (Unix-only): Creates a child process at a lower level.\n",
        "\n",
        "multiprocessing: Cross-platform, high-level API for parallel processes.\n",
        "\n"
      ],
      "metadata": {
        "id": "OsY_KMhNs4ZN"
      }
    },
    {
      "cell_type": "markdown",
      "source": [
        "###19. What is the importance of closing a file in Python?"
      ],
      "metadata": {
        "id": "NGumZgJqs6jJ"
      }
    },
    {
      "cell_type": "markdown",
      "source": [
        "Frees system resources\n",
        "\n",
        "Prevents file corruption\n",
        "\n",
        "Ensures all data is written (especially when writing)"
      ],
      "metadata": {
        "id": "bEKMqY-ks9A5"
      }
    },
    {
      "cell_type": "markdown",
      "source": [
        "### 20. What is the difference between file.read() and file.readline() in Python?"
      ],
      "metadata": {
        "id": "g_6Gwh_4s-_j"
      }
    },
    {
      "cell_type": "markdown",
      "source": [
        "read(): Reads the entire file or given size.\n",
        "\n",
        "readline(): Reads one line at a time."
      ],
      "metadata": {
        "id": "urbNoOHBtBkr"
      }
    },
    {
      "cell_type": "markdown",
      "source": [
        "###21. What is the logging module in Python used for?"
      ],
      "metadata": {
        "id": "iXnT3ZIUtGme"
      }
    },
    {
      "cell_type": "markdown",
      "source": [
        "Used to:\n",
        "\n",
        "Write log messages to console or files\n",
        "\n",
        "Track program flow\n",
        "\n",
        "Help in debugging and auditing"
      ],
      "metadata": {
        "id": "YoBbaIx8tKHH"
      }
    },
    {
      "cell_type": "markdown",
      "source": [
        "### 22. What is the os module in Python used for in file handling?"
      ],
      "metadata": {
        "id": "WRD0AlGFtNEJ"
      }
    },
    {
      "cell_type": "markdown",
      "source": [
        "os provides:\n",
        "\n",
        "File/directory operations (os.remove, os.rename)\n",
        "\n",
        "Path manipulations (os.path)\n",
        "\n",
        "Environment access (os.environ)"
      ],
      "metadata": {
        "id": "1AN_iK07tRGy"
      }
    },
    {
      "cell_type": "markdown",
      "source": [
        "### 23. What are the challenges associated with memory management in Python?"
      ],
      "metadata": {
        "id": "8VACwnfTtUQe"
      }
    },
    {
      "cell_type": "markdown",
      "source": [
        "Circular references\n",
        "\n",
        "Memory leaks in long-running apps\n",
        "\n",
        "Managing large datasets\n",
        "\n",
        "Understanding the object lifecycle"
      ],
      "metadata": {
        "id": "aVa-qGwVtXkG"
      }
    },
    {
      "cell_type": "markdown",
      "source": [
        "###24. How do you raise an exception manually in Python?"
      ],
      "metadata": {
        "id": "FhrzEQx6tax7"
      }
    },
    {
      "cell_type": "markdown",
      "source": [
        "Use the raise keyword:\n",
        "\n",
        "Copy\n",
        "Edit\n",
        "raise ValueError(\"Invalid input\")"
      ],
      "metadata": {
        "id": "XGVQTLq7td_F"
      }
    },
    {
      "cell_type": "markdown",
      "source": [
        "### 25. Why is it important to use multithreading in certain applications?"
      ],
      "metadata": {
        "id": "JnTiCZE2tiCq"
      }
    },
    {
      "cell_type": "markdown",
      "source": [
        "Improves performance for I/O-bound tasks\n",
        "\n",
        "Keeps UI responsive\n",
        "\n",
        "Enables background tasks (e.g., downloading, file reading"
      ],
      "metadata": {
        "id": "HrREJqCatp89"
      }
    },
    {
      "cell_type": "markdown",
      "source": [
        "#Code"
      ],
      "metadata": {
        "id": "4daTwpA1tsQs"
      }
    },
    {
      "cell_type": "markdown",
      "source": [
        "### 1. Open a file for writing and write a string to it"
      ],
      "metadata": {
        "id": "ZI_Dv37ItuR9"
      }
    },
    {
      "cell_type": "code",
      "source": [
        "with open(\"output.txt\", \"w\") as f:\n",
        "    f.write(\"Hello, World!\")\n"
      ],
      "metadata": {
        "id": "QGiD5ROguPBE"
      },
      "execution_count": 3,
      "outputs": []
    },
    {
      "cell_type": "markdown",
      "source": [
        "###2. Read the contents of a file and print each line"
      ],
      "metadata": {
        "id": "e3tJ4oUIuQ-T"
      }
    },
    {
      "cell_type": "code",
      "source": [
        "with open(\"output.txt\", \"r\") as f:\n",
        "    for line in f:\n",
        "        print(line.strip())\n"
      ],
      "metadata": {
        "colab": {
          "base_uri": "https://localhost:8080/"
        },
        "id": "wn5gOGfeuYKR",
        "outputId": "69793cce-79ba-4933-cf23-0d786d4d8af8"
      },
      "execution_count": 4,
      "outputs": [
        {
          "output_type": "stream",
          "name": "stdout",
          "text": [
            "Hello, World!\n"
          ]
        }
      ]
    },
    {
      "cell_type": "markdown",
      "source": [
        " ### 3. Handle a case where the file doesn't exist"
      ],
      "metadata": {
        "id": "q_Tll7QCuadW"
      }
    },
    {
      "cell_type": "code",
      "source": [
        "try:\n",
        "    with open(\"nofile.txt\", \"r\") as f:\n",
        "        content = f.read()\n",
        "except FileNotFoundError:\n",
        "    print(\"File not found.\")\n",
        "\n"
      ],
      "metadata": {
        "colab": {
          "base_uri": "https://localhost:8080/"
        },
        "id": "QicKTZmYugxU",
        "outputId": "3d42aeab-073b-4b3e-e32f-d19f485f41d1"
      },
      "execution_count": 5,
      "outputs": [
        {
          "output_type": "stream",
          "name": "stdout",
          "text": [
            "File not found.\n"
          ]
        }
      ]
    },
    {
      "cell_type": "markdown",
      "source": [
        "###4. Read from one file and write to another"
      ],
      "metadata": {
        "id": "-kbHLO9guj9j"
      }
    },
    {
      "cell_type": "code",
      "source": [
        "with open(\"source.txt\", \"r\") as src, open(\"destination.txt\", \"w\") as dest:\n",
        "    dest.write(src.read())\n",
        "\n"
      ],
      "metadata": {
        "colab": {
          "base_uri": "https://localhost:8080/",
          "height": 183
        },
        "id": "4ozVp7L9umbL",
        "outputId": "88d685ce-1861-404f-9796-8bf5b8db4785"
      },
      "execution_count": 17,
      "outputs": [
        {
          "output_type": "error",
          "ename": "FileNotFoundError",
          "evalue": "[Errno 2] No such file or directory: 'source.txt'",
          "traceback": [
            "\u001b[0;31m---------------------------------------------------------------------------\u001b[0m",
            "\u001b[0;31mFileNotFoundError\u001b[0m                         Traceback (most recent call last)",
            "\u001b[0;32m/tmp/ipython-input-17-3245109772.py\u001b[0m in \u001b[0;36m<cell line: 0>\u001b[0;34m()\u001b[0m\n\u001b[0;32m----> 1\u001b[0;31m \u001b[0;32mwith\u001b[0m \u001b[0mopen\u001b[0m\u001b[0;34m(\u001b[0m\u001b[0;34m\"source.txt\"\u001b[0m\u001b[0;34m,\u001b[0m \u001b[0;34m\"r\"\u001b[0m\u001b[0;34m)\u001b[0m \u001b[0;32mas\u001b[0m \u001b[0msrc\u001b[0m\u001b[0;34m,\u001b[0m \u001b[0mopen\u001b[0m\u001b[0;34m(\u001b[0m\u001b[0;34m\"destination.txt\"\u001b[0m\u001b[0;34m,\u001b[0m \u001b[0;34m\"w\"\u001b[0m\u001b[0;34m)\u001b[0m \u001b[0;32mas\u001b[0m \u001b[0mdest\u001b[0m\u001b[0;34m:\u001b[0m\u001b[0;34m\u001b[0m\u001b[0;34m\u001b[0m\u001b[0m\n\u001b[0m\u001b[1;32m      2\u001b[0m     \u001b[0mdest\u001b[0m\u001b[0;34m.\u001b[0m\u001b[0mwrite\u001b[0m\u001b[0;34m(\u001b[0m\u001b[0msrc\u001b[0m\u001b[0;34m.\u001b[0m\u001b[0mread\u001b[0m\u001b[0;34m(\u001b[0m\u001b[0;34m)\u001b[0m\u001b[0;34m)\u001b[0m\u001b[0;34m\u001b[0m\u001b[0;34m\u001b[0m\u001b[0m\n\u001b[1;32m      3\u001b[0m \u001b[0;34m\u001b[0m\u001b[0m\n",
            "\u001b[0;31mFileNotFoundError\u001b[0m: [Errno 2] No such file or directory: 'source.txt'"
          ]
        }
      ]
    },
    {
      "cell_type": "markdown",
      "source": [
        "### 5. Catch and handle division by zero error"
      ],
      "metadata": {
        "id": "YxR2DkwKwFUo"
      }
    },
    {
      "cell_type": "code",
      "source": [
        "try:\n",
        "    result = 10 / 0\n",
        "except ZeroDivisionError:\n",
        "    print(\"Cannot divide by zero.\")\n"
      ],
      "metadata": {
        "colab": {
          "base_uri": "https://localhost:8080/"
        },
        "id": "FaIJx3fqwJsr",
        "outputId": "ef7527a6-e9dc-4b7e-de42-80c6e3d51c8e"
      },
      "execution_count": 18,
      "outputs": [
        {
          "output_type": "stream",
          "name": "stdout",
          "text": [
            "Cannot divide by zero.\n"
          ]
        }
      ]
    },
    {
      "cell_type": "markdown",
      "source": [
        "### 6. Log an error message when a division by zero exception occurs"
      ],
      "metadata": {
        "id": "7TKYm7IswMLo"
      }
    },
    {
      "cell_type": "code",
      "source": [
        "import logging\n",
        "logging.basicConfig(filename=\"error.log\", level=logging.ERROR)\n",
        "try:\n",
        "    x = 5 / 0\n",
        "except ZeroDivisionError as e:\n",
        "    logging.error(\"Division by zero error: %s\", e)\n"
      ],
      "metadata": {
        "colab": {
          "base_uri": "https://localhost:8080/"
        },
        "id": "McatSJSFwQMQ",
        "outputId": "4ca3d212-e885-4260-c999-cbcdf35d843d"
      },
      "execution_count": 19,
      "outputs": [
        {
          "output_type": "stream",
          "name": "stderr",
          "text": [
            "ERROR:root:Division by zero error: division by zero\n"
          ]
        }
      ]
    },
    {
      "cell_type": "markdown",
      "source": [
        "### 7. Log information at different levels"
      ],
      "metadata": {
        "id": "km1FbSGqwSwZ"
      }
    },
    {
      "cell_type": "markdown",
      "source": [],
      "metadata": {
        "id": "OsE6WiXLuekk"
      }
    },
    {
      "cell_type": "code",
      "source": [
        "import logging\n",
        "logging.basicConfig(level=logging.DEBUG)\n",
        "\n",
        "logging.info(\"This is an info message\")\n",
        "logging.warning(\"This is a warning\")\n",
        "logging.error(\"This is an error\")\n"
      ],
      "metadata": {
        "colab": {
          "base_uri": "https://localhost:8080/"
        },
        "id": "1_jUDcTzwVhp",
        "outputId": "2032ce36-1c73-4a52-f04b-12a9ff1b7a77"
      },
      "execution_count": 20,
      "outputs": [
        {
          "output_type": "stream",
          "name": "stderr",
          "text": [
            "WARNING:root:This is a warning\n",
            "ERROR:root:This is an error\n"
          ]
        }
      ]
    },
    {
      "cell_type": "markdown",
      "source": [
        "###8. Handle a file opening error using exception handling"
      ],
      "metadata": {
        "id": "W7s2agiWwXwc"
      }
    },
    {
      "cell_type": "code",
      "source": [
        "try:\n",
        "    with open(\"missing.txt\", \"r\") as f:\n",
        "        data = f.read()\n",
        "except IOError:\n",
        "    print(\"Error opening file.\")\n"
      ],
      "metadata": {
        "colab": {
          "base_uri": "https://localhost:8080/"
        },
        "id": "0H2lF3AzwaoV",
        "outputId": "a3b2bda0-c3f6-4e72-f3b3-a4405bb2fe80"
      },
      "execution_count": 21,
      "outputs": [
        {
          "output_type": "stream",
          "name": "stdout",
          "text": [
            "Error opening file.\n"
          ]
        }
      ]
    },
    {
      "cell_type": "markdown",
      "source": [
        "### 9. Read a file line by line and store contents in a list"
      ],
      "metadata": {
        "id": "V5-du-bywdyz"
      }
    },
    {
      "cell_type": "code",
      "source": [
        "with open(\"output.txt\", \"r\") as f:\n",
        "    lines = f.readlines()\n"
      ],
      "metadata": {
        "id": "oCFYuAeJwiuU"
      },
      "execution_count": 22,
      "outputs": []
    },
    {
      "cell_type": "markdown",
      "source": [
        "###10. Append data to an existing file"
      ],
      "metadata": {
        "id": "J0FTcmalwl6H"
      }
    },
    {
      "cell_type": "code",
      "source": [
        "with open(\"output.txt\", \"a\") as f:\n",
        "    f.write(\"\\nAppended line.\")\n"
      ],
      "metadata": {
        "id": "Ng8Su_ggwq0p"
      },
      "execution_count": 23,
      "outputs": []
    },
    {
      "cell_type": "markdown",
      "source": [
        "### 11. Handle dictionary key error using try-except"
      ],
      "metadata": {
        "id": "JoAovJtywumo"
      }
    },
    {
      "cell_type": "code",
      "source": [
        "try:\n",
        "    data = {\"name\": \"Kunal\"}\n",
        "    print(data[\"age\"])\n",
        "except KeyError:\n",
        "    print(\"Key does not exist.\")\n"
      ],
      "metadata": {
        "colab": {
          "base_uri": "https://localhost:8080/"
        },
        "id": "sAxkD5bUwxr_",
        "outputId": "3b2f088c-c79e-445e-8824-10d11287bef4"
      },
      "execution_count": 24,
      "outputs": [
        {
          "output_type": "stream",
          "name": "stdout",
          "text": [
            "Key does not exist.\n"
          ]
        }
      ]
    },
    {
      "cell_type": "markdown",
      "source": [
        "### 12. Multiple except blocks for different exceptions"
      ],
      "metadata": {
        "id": "8_M1M1Q5w8GF"
      }
    },
    {
      "cell_type": "code",
      "source": [
        "try:\n",
        "    lst = [1, 2, 3]\n",
        "    print(lst[5])\n",
        "    val = int(\"abc\")\n",
        "except IndexError:\n",
        "    print(\"Index out of range.\")\n",
        "except ValueError:\n",
        "    print(\"Invalid value conversion.\")\n"
      ],
      "metadata": {
        "colab": {
          "base_uri": "https://localhost:8080/"
        },
        "id": "nPv1IgpNw-ty",
        "outputId": "c3f63993-e976-41c4-a497-339d82b9e9bf"
      },
      "execution_count": 26,
      "outputs": [
        {
          "output_type": "stream",
          "name": "stdout",
          "text": [
            "Index out of range.\n"
          ]
        }
      ]
    },
    {
      "cell_type": "markdown",
      "source": [
        "###13. Check if a file exists before reading"
      ],
      "metadata": {
        "id": "VgaP2bAlxEWX"
      }
    },
    {
      "cell_type": "code",
      "source": [
        "import os\n",
        "if os.path.exists(\"output.txt\"):\n",
        "    with open(\"output.txt\", \"r\") as f:\n",
        "        print(f.read())\n",
        "else:\n",
        "    print(\"File not found.\")\n"
      ],
      "metadata": {
        "colab": {
          "base_uri": "https://localhost:8080/"
        },
        "id": "kQ6YRV_-xGVw",
        "outputId": "2f1ac8fd-84f6-49d8-92ea-f768dbf298f0"
      },
      "execution_count": 28,
      "outputs": [
        {
          "output_type": "stream",
          "name": "stdout",
          "text": [
            "Hello, World!\n",
            "Appended line.\n"
          ]
        }
      ]
    },
    {
      "cell_type": "markdown",
      "source": [
        "### 14. Log informational and error messages"
      ],
      "metadata": {
        "id": "8lzre1zwxIzo"
      }
    },
    {
      "cell_type": "code",
      "source": [
        "import logging\n",
        "logging.basicConfig(filename=\"app.log\", level=logging.INFO)\n",
        "\n",
        "logging.info(\"Program started\")\n",
        "try:\n",
        "    1 / 0\n",
        "except ZeroDivisionError:\n",
        "    logging.error(\"Attempted division by zero\")\n"
      ],
      "metadata": {
        "colab": {
          "base_uri": "https://localhost:8080/"
        },
        "id": "oxgSFogAxLjg",
        "outputId": "43a2a728-ed3f-4ca6-c61b-7a731ee6eb90"
      },
      "execution_count": 29,
      "outputs": [
        {
          "output_type": "stream",
          "name": "stderr",
          "text": [
            "ERROR:root:Attempted division by zero\n"
          ]
        }
      ]
    },
    {
      "cell_type": "markdown",
      "source": [
        "### 15. Print file content and handle empty file"
      ],
      "metadata": {
        "id": "lOS6nHJcxNy0"
      }
    },
    {
      "cell_type": "code",
      "source": [
        "with open(\"output.txt\", \"r\") as f:\n",
        "    content = f.read()\n",
        "    if content:\n",
        "        print(content)\n",
        "    else:\n",
        "        print(\"File is empty.\")\n"
      ],
      "metadata": {
        "colab": {
          "base_uri": "https://localhost:8080/"
        },
        "id": "nMQXLBcEwz1r",
        "outputId": "c59a6a3b-a861-437e-942a-bbce992b6fcd"
      },
      "execution_count": 30,
      "outputs": [
        {
          "output_type": "stream",
          "name": "stdout",
          "text": [
            "Hello, World!\n",
            "Appended line.\n"
          ]
        }
      ]
    },
    {
      "cell_type": "markdown",
      "source": [
        "### 16. Memory profiling of a small program"
      ],
      "metadata": {
        "id": "aQjRFVbYxSaA"
      }
    },
    {
      "cell_type": "code",
      "source": [
        "from memory_profiler import profile\n",
        "\n",
        "@profile\n",
        "def create_list():\n",
        "    return [i for i in range(10000)]\n",
        "\n",
        "create_list()\n"
      ],
      "metadata": {
        "colab": {
          "base_uri": "https://localhost:8080/",
          "height": 401
        },
        "id": "5muEu2mTxVJA",
        "outputId": "7075d736-0e8f-4d86-8a9e-b8a1b089c8d5"
      },
      "execution_count": 31,
      "outputs": [
        {
          "output_type": "error",
          "ename": "ModuleNotFoundError",
          "evalue": "No module named 'memory_profiler'",
          "traceback": [
            "\u001b[0;31m---------------------------------------------------------------------------\u001b[0m",
            "\u001b[0;31mModuleNotFoundError\u001b[0m                       Traceback (most recent call last)",
            "\u001b[0;32m/tmp/ipython-input-31-1464369219.py\u001b[0m in \u001b[0;36m<cell line: 0>\u001b[0;34m()\u001b[0m\n\u001b[0;32m----> 1\u001b[0;31m \u001b[0;32mfrom\u001b[0m \u001b[0mmemory_profiler\u001b[0m \u001b[0;32mimport\u001b[0m \u001b[0mprofile\u001b[0m\u001b[0;34m\u001b[0m\u001b[0;34m\u001b[0m\u001b[0m\n\u001b[0m\u001b[1;32m      2\u001b[0m \u001b[0;34m\u001b[0m\u001b[0m\n\u001b[1;32m      3\u001b[0m \u001b[0;34m@\u001b[0m\u001b[0mprofile\u001b[0m\u001b[0;34m\u001b[0m\u001b[0;34m\u001b[0m\u001b[0m\n\u001b[1;32m      4\u001b[0m \u001b[0;32mdef\u001b[0m \u001b[0mcreate_list\u001b[0m\u001b[0;34m(\u001b[0m\u001b[0;34m)\u001b[0m\u001b[0;34m:\u001b[0m\u001b[0;34m\u001b[0m\u001b[0;34m\u001b[0m\u001b[0m\n\u001b[1;32m      5\u001b[0m     \u001b[0;32mreturn\u001b[0m \u001b[0;34m[\u001b[0m\u001b[0mi\u001b[0m \u001b[0;32mfor\u001b[0m \u001b[0mi\u001b[0m \u001b[0;32min\u001b[0m \u001b[0mrange\u001b[0m\u001b[0;34m(\u001b[0m\u001b[0;36m10000\u001b[0m\u001b[0;34m)\u001b[0m\u001b[0;34m]\u001b[0m\u001b[0;34m\u001b[0m\u001b[0;34m\u001b[0m\u001b[0m\n",
            "\u001b[0;31mModuleNotFoundError\u001b[0m: No module named 'memory_profiler'",
            "",
            "\u001b[0;31m---------------------------------------------------------------------------\u001b[0;32m\nNOTE: If your import is failing due to a missing package, you can\nmanually install dependencies using either !pip or !apt.\n\nTo view examples of installing some common dependencies, click the\n\"Open Examples\" button below.\n\u001b[0;31m---------------------------------------------------------------------------\u001b[0m\n"
          ],
          "errorDetails": {
            "actions": [
              {
                "action": "open_url",
                "actionText": "Open Examples",
                "url": "/notebooks/snippets/importing_libraries.ipynb"
              }
            ]
          }
        }
      ]
    },
    {
      "cell_type": "markdown",
      "source": [
        "### 17. Create and write list of numbers to a file"
      ],
      "metadata": {
        "id": "LnmS437Fxe_z"
      }
    },
    {
      "cell_type": "code",
      "source": [
        "numbers = [1, 2, 3, 4, 5]\n",
        "with open(\"numbers.txt\", \"w\") as f:\n",
        "    for num in numbers:\n",
        "        f.write(f\"{num}\\n\")\n"
      ],
      "metadata": {
        "id": "QeVNR8zVxij2"
      },
      "execution_count": 32,
      "outputs": []
    },
    {
      "cell_type": "markdown",
      "source": [
        "### 18. Logging setup with rotation after 1MB"
      ],
      "metadata": {
        "id": "rldKIGqsxk5Y"
      }
    },
    {
      "cell_type": "code",
      "source": [
        "import logging\n",
        "from logging.handlers import RotatingFileHandler\n",
        "\n",
        "handler = RotatingFileHandler(\"rotating.log\", maxBytes=1000000, backupCount=3)\n",
        "logging.basicConfig(handlers=[handler], level=logging.INFO)\n",
        "logging.info(\"Logging with rotation setup.\")\n"
      ],
      "metadata": {
        "id": "Aw9ZfRKRxnKV"
      },
      "execution_count": 33,
      "outputs": []
    },
    {
      "cell_type": "markdown",
      "source": [
        "### 19. Handle both IndexError and KeyError"
      ],
      "metadata": {
        "id": "7qkzm4FoxpN8"
      }
    },
    {
      "cell_type": "code",
      "source": [
        "try:\n",
        "    lst = [1, 2]\n",
        "    print(lst[5])\n",
        "    d = {\"a\": 1}\n",
        "    print(d[\"b\"])\n",
        "except IndexError:\n",
        "    print(\"Index error.\")\n",
        "except KeyError:\n",
        "    print(\"Key error.\")\n"
      ],
      "metadata": {
        "colab": {
          "base_uri": "https://localhost:8080/"
        },
        "id": "4XUJtbkIxsLN",
        "outputId": "e7a757fd-0857-4d3e-ffdd-128cf3f4bbe1"
      },
      "execution_count": 34,
      "outputs": [
        {
          "output_type": "stream",
          "name": "stdout",
          "text": [
            "Index error.\n"
          ]
        }
      ]
    },
    {
      "cell_type": "markdown",
      "source": [
        "###20. Open and read file using context manager"
      ],
      "metadata": {
        "id": "mi7896R1xuUs"
      }
    },
    {
      "cell_type": "code",
      "source": [
        "with open(\"output.txt\", \"r\") as f:\n",
        "    content = f.read()\n",
        "    print(content)\n"
      ],
      "metadata": {
        "colab": {
          "base_uri": "https://localhost:8080/"
        },
        "id": "oiRna76Kxw8Q",
        "outputId": "7f844cdf-25ec-488a-eeff-77cdc9989f49"
      },
      "execution_count": 35,
      "outputs": [
        {
          "output_type": "stream",
          "name": "stdout",
          "text": [
            "Hello, World!\n",
            "Appended line.\n"
          ]
        }
      ]
    },
    {
      "cell_type": "markdown",
      "source": [
        "### 21. Count occurrences of a specific word in a file"
      ],
      "metadata": {
        "id": "OaZbXnmZxy1E"
      }
    },
    {
      "cell_type": "code",
      "source": [
        "word_to_count = \"hello\"\n",
        "with open(\"output.txt\", \"r\") as f:\n",
        "    content = f.read()\n",
        "    print(content.lower().split().count(word_to_count.lower()))\n"
      ],
      "metadata": {
        "colab": {
          "base_uri": "https://localhost:8080/"
        },
        "id": "6piyiQQnx1Iu",
        "outputId": "5a1c2765-056d-4166-841a-34787fd48433"
      },
      "execution_count": 36,
      "outputs": [
        {
          "output_type": "stream",
          "name": "stdout",
          "text": [
            "0\n"
          ]
        }
      ]
    },
    {
      "cell_type": "markdown",
      "source": [
        "###22. Check if a file is empty"
      ],
      "metadata": {
        "id": "7upUE9tDx24D"
      }
    },
    {
      "cell_type": "code",
      "source": [
        "import os\n",
        "if os.path.getsize(\"output.txt\") == 0:\n",
        "    print(\"File is empty.\")\n",
        "else:\n",
        "    with open(\"output.txt\", \"r\") as f:\n",
        "        print(f.read())\n"
      ],
      "metadata": {
        "colab": {
          "base_uri": "https://localhost:8080/"
        },
        "id": "6nYapWKMx6ln",
        "outputId": "9bd95751-23ab-4ce7-ba98-525da75806ab"
      },
      "execution_count": 37,
      "outputs": [
        {
          "output_type": "stream",
          "name": "stdout",
          "text": [
            "Hello, World!\n",
            "Appended line.\n"
          ]
        }
      ]
    },
    {
      "cell_type": "markdown",
      "source": [
        "###23. Log error when file handling fails"
      ],
      "metadata": {
        "id": "EBfJv-S-x8lV"
      }
    },
    {
      "cell_type": "code",
      "source": [
        "import logging\n",
        "logging.basicConfig(filename=\"file_error.log\", level=logging.ERROR)\n",
        "\n",
        "try:\n",
        "    with open(\"missingfile.txt\", \"r\") as f:\n",
        "        print(f.read())\n",
        "except Exception as e:\n",
        "    logging.error(\"File handling error: %s\", e)\n"
      ],
      "metadata": {
        "id": "oX5iTVpNyADS",
        "outputId": "cf4b2af9-db38-4051-b924-f918f4a2d1f0",
        "colab": {
          "base_uri": "https://localhost:8080/"
        }
      },
      "execution_count": 38,
      "outputs": [
        {
          "output_type": "stream",
          "name": "stderr",
          "text": [
            "ERROR:root:File handling error: [Errno 2] No such file or directory: 'missingfile.txt'\n"
          ]
        }
      ]
    },
    {
      "cell_type": "markdown",
      "source": [],
      "metadata": {
        "id": "bNmxCmSKyB3T"
      }
    }
  ]
}