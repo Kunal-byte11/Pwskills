{
 "cells": [
  {
   "cell_type": "markdown",
   "id": "7b2330da-d357-4b0e-943e-6be96aca1b14",
   "metadata": {},
   "source": [
    "\n",
    "1. **What is Object-Oriented Programming (OOP)?**  \n",
    "   OOP is a programming paradigm that uses objects and classes. It organizes software design around data, or objects, and methods to manipulate that data, focusing on key concepts such as inheritance, polymorphism, encapsulation, and abstraction.\n",
    "\n",
    "2. **What is a class in OOP?**  \n",
    "   A class is a blueprint or template for creating objects. It defines the attributes (data) and methods (functions) that objects created from the class will have.\n",
    "\n",
    "3. **What is an object in OOP?**  \n",
    "   An object is an instance of a class. It represents a specific entity with its own attributes and methods, created based on the class definition.\n",
    "\n",
    "4. **What is the difference between abstraction and encapsulation?**  \n",
    "   - **Abstraction** hides the complex implementation details and shows only the essential features of an object.\n",
    "   - **Encapsulation** restricts access to some of an object's components, ensuring that the object's data is protected and only accessible through well-defined methods.\n",
    "\n",
    "5. **What are dunder methods in Python?**  \n",
    "   Dunder methods (short for \"double underscore\") are special methods in Python, like `__init__`, `__str__`, `__repr__`, etc., that begin and end with double underscores. They are used to implement functionality for built-in operations.\n",
    "\n",
    "6. **Explain the concept of inheritance in OOP.**  \n",
    "   Inheritance allows a class to inherit properties and behaviors (methods) from another class. This promotes code reuse and creates a hierarchical relationship between classes.\n",
    "\n",
    "7. **What is polymorphism in OOP?**  \n",
    "   Polymorphism allows objects of different classes to be treated as objects of a common superclass. It enables method overriding, where a subclass can provide a specific implementation of a method that is already defined in its superclass.\n",
    "\n",
    "8. **How is encapsulation achieved in Python?**  \n",
    "   Encapsulation is achieved by defining attributes as private or protected (prefixing with `_` or `__`) and providing public methods to access or modify those attributes (getters and setters).\n",
    "\n",
    "9. **What is a constructor in Python?**  \n",
    "   A constructor is a special method `__init__` that is called when an object is created. It initializes the object's attributes.\n",
    "\n",
    "10. **What are class and static methods in Python?**  \n",
    "    - **Class methods** are bound to the class and not the instance. They use the `@classmethod` decorator and take `cls` as the first argument.\n",
    "    - **Static methods** are independent of class and instance. They use the `@staticmethod` decorator and don't require any special first argument.\n",
    "\n",
    "11. **What is method overloading in Python?**  \n",
    "    Method overloading allows defining multiple methods with the same name but different parameters. However, Python does not support method overloading directly. It can be mimicked by using default arguments or variable-length arguments.\n",
    "\n",
    "12. **What is method overriding in OOP?**  \n",
    "    Method overriding allows a subclass to provide a specific implementation of a method that is already defined in its superclass.\n",
    "\n",
    "13. **What is a property decorator in Python?**  \n",
    "    The `@property` decorator allows a method to be accessed like an attribute. It enables the use of getters, setters, and deleters in a class.\n",
    "\n",
    "14. **Why is polymorphism important in OOP?**  \n",
    "    Polymorphism promotes flexibility and reusability in code by allowing different types of objects to be treated uniformly, making it easier to extend and modify the code.\n",
    "\n",
    "15. **What is an abstract class in Python?**  \n",
    "    An abstract class is a class that cannot be instantiated and usually contains one or more abstract methods (methods without implementation). It is defined using the `ABC` (Abstract Base Class) module.\n",
    "\n",
    "16. **What are the advantages of OOP?**  \n",
    "    - Modularity through classes and objects.\n",
    "    - Code reuse through inheritance.\n",
    "    - Flexibility and maintainability due to polymorphism.\n",
    "    - Data encapsulation and abstraction for better security and management.\n",
    "\n",
    "17. **What is multiple inheritance in Python?**  \n",
    "    Multiple inheritance allows a class to inherit from more than one base class, enabling the reuse of code from multiple sources.\n",
    "\n",
    "18. **What is the difference between a class variable and an instance variable?**  \n",
    "    - **Class variable**: Shared by all instances of a class. It is defined inside the class but outside any methods.\n",
    "    - **Instance variable**: Unique to each instance. It is typically defined inside the `__init__` method.\n",
    "\n",
    "19. **Explain the purpose of `__str__` and `__repr__` methods in Python.**  \n",
    "    - **`__str__`**: Defines the string representation of an object for user-friendly output (e.g., `print()`).\n",
    "    - **`__repr__`**: Defines the official string representation, often used for debugging and logging.\n",
    "\n",
    "20. **What is the significance of the `super()` function in Python?**  \n",
    "    `super()` is used to call a method from a parent class. It is typically used in method overriding to ensure that the parent class's method is properly executed.\n",
    "\n",
    "21. **What is the significance of the `__del__` method in Python?**  \n",
    "    The `__del__` method is the destructor in Python, called when an object is about to be destroyed. It can be used to clean up resources like closing files or network connections.\n",
    "\n",
    "22. **What is the difference between `@staticmethod` and `@classmethod` in Python?**  \n",
    "    - **`@staticmethod`**: Defines a method that doesn't require access to instance or class-specific data.\n",
    "    - **`@classmethod`**: Defines a method that takes the class as the first argument and can modify class-level data.\n",
    "\n",
    "23. **How does polymorphism work in Python with inheritance?**  \n",
    "    Inheritance allows subclasses to override methods, and polymorphism allows the subclass method to be called even when the superclass method is expected, making the code more flexible.\n",
    "\n",
    "24. **What is method chaining in Python OOP?**  \n",
    "    Method chaining allows calling multiple methods on the same object in a single line of code by ensuring each method returns `self`.\n",
    "\n",
    "25. **What is the purpose of the `__call__` method in Python?**  \n",
    "    The `__call__` method allows an object to be called like a function. It enables objects to behave like callable functions."
   ]
  },
  {
   "cell_type": "markdown",
   "id": "e0f5b24e-f9d9-433e-aec5-8af0ab0cdce0",
   "metadata": {},
   "source": [
    "***Programing***"
   ]
  },
  {
   "cell_type": "markdown",
   "id": "d3ae65ba-0c2b-46cd-a1fb-2fde71f8a7e8",
   "metadata": {},
   "source": [
    "**1.Create a parent class Animal with a method speak() that prints a generic message. Create a child class Dog that overrides the speak() method to print \"Bark!\"**"
   ]
  },
  {
   "cell_type": "code",
   "execution_count": 9,
   "id": "d1b7b111-0ad2-430b-a933-2454a51ac494",
   "metadata": {},
   "outputs": [
    {
     "name": "stdout",
     "output_type": "stream",
     "text": [
      "The animal a sound\n",
      "Bark!\n"
     ]
    }
   ],
   "source": [
    "class Animal:\n",
    "    def speak(self):\n",
    "        print(\"The animal a sound\")\n",
    "\n",
    "class Dog(Animal):\n",
    "    def speak(self):\n",
    "        print(\"Bark!\")\n",
    "\n",
    "animal = Animal()\n",
    "dog = Dog()\n",
    "\n",
    "animal.speak()\n",
    "dog.speak()"
   ]
  },
  {
   "cell_type": "markdown",
   "id": "f3854152-b465-4cd8-b2eb-ef0a5cb0e57d",
   "metadata": {},
   "source": [
    "**2. Write a program to create an abstract class Shape with a method area(). Derive classes Circle and Rectangle from it and implement the area() method in both**"
   ]
  },
  {
   "cell_type": "code",
   "execution_count": 7,
   "id": "b94e1c15-9006-4d13-a6c2-f537eb72ce5b",
   "metadata": {},
   "outputs": [
    {
     "name": "stdout",
     "output_type": "stream",
     "text": [
      "Area of Circle:78.54\n",
      "Area of Rectangle:24\n"
     ]
    }
   ],
   "source": [
    "from abc import ABC, abstractmethod\n",
    "import math\n",
    "\n",
    "class Shape(ABC):\n",
    "    @abstractmethod\n",
    "    def area(self):\n",
    "        pass\n",
    "\n",
    "class Circle(Shape):\n",
    "    def __init__(self, radius):\n",
    "        self.radius = radius\n",
    "    def area(self):\n",
    "        return math.pi * self.radius ** 2\n",
    "\n",
    "class Rectangle (Shape):\n",
    "    def __init__(self, width, height):\n",
    "        self.width = width\n",
    "        self.height = height\n",
    "    def area(self):\n",
    "        return self.width * self.height\n",
    "\n",
    "circle = Circle(5)\n",
    "rectangle = Rectangle(4, 6)\n",
    "\n",
    "print(f\"Area of Circle:{circle.area():.2f}\")\n",
    "print(f\"Area of Rectangle:{rectangle.area()}\")"
   ]
  },
  {
   "cell_type": "markdown",
   "id": "e24c0572-cdc0-4832-b7c2-e6b64965d70e",
   "metadata": {},
   "source": [
    "**3. Implement a multi-level inheritance scenario where a class Vehicle has an attribute type. Derive a class Car and further derive a class ElectricCar that adds a battery attribute**."
   ]
  },
  {
   "cell_type": "code",
   "execution_count": 10,
   "id": "b52d582f-4455-4e04-b7c4-d7a35177e898",
   "metadata": {},
   "outputs": [
    {
     "name": "stdout",
     "output_type": "stream",
     "text": [
      "Vehicle Type: Four Wheeler\n",
      "Car Brand:Tesla\n",
      "Battery capacity:75 kWH\n"
     ]
    }
   ],
   "source": [
    "class Vehicle:\n",
    "    def __init__(self, vehicle_type):\n",
    "        self.vehicle_type = vehicle_type\n",
    "    def show_type(self):\n",
    "        print(f\"Vehicle Type: {self.vehicle_type}\")\n",
    "\n",
    "class Car(Vehicle):\n",
    "    def __init__(self, vehicle_type, brand):\n",
    "        super().__init__(vehicle_type)\n",
    "        self.brand = brand\n",
    "\n",
    "    def show_brand(self):\n",
    "        print(f\"Car Brand:{self.brand}\")\n",
    "\n",
    "class ElectricCar(Car):\n",
    "    def __init__(self, vehicle_type, brand, battery_capacity):\n",
    "        super().__init__(vehicle_type, brand)\n",
    "        self.battery_capacity = battery_capacity\n",
    "\n",
    "    def show_battery(self):\n",
    "        print(f\"Battery capacity:{self.battery_capacity} kWH\")\n",
    "\n",
    "tesla = ElectricCar(\"Four Wheeler\" ,\"Tesla\", 75)\n",
    "tesla.show_type()\n",
    "tesla.show_brand()\n",
    "tesla.show_battery()"
   ]
  },
  {
   "cell_type": "markdown",
   "id": "f110168a-b62b-48ca-90d9-1e588ce17fa1",
   "metadata": {},
   "source": [
    "**4.. Demonstrate polymorphism by creating a base class Bird with a method fly(). Create two derived classes Sparrow and Penguin that override the fly() method**"
   ]
  },
  {
   "cell_type": "code",
   "execution_count": 18,
   "id": "e14cc096-5dea-40f0-b2ac-9f42d86af4b2",
   "metadata": {},
   "outputs": [
    {
     "name": "stdout",
     "output_type": "stream",
     "text": [
      "Sparrow is flying high in the sky !\n",
      "Penguins can't fly, but they swim really well!\n"
     ]
    }
   ],
   "source": [
    "class Bird:\n",
    "    def fly(self):\n",
    "        print(\"This bird can fly... maybe!\")\n",
    "\n",
    "class Sparrow(Bird):\n",
    "    def fly(self):\n",
    "        print(\"Sparrow is flying high in the sky !\")\n",
    "\n",
    "class Penguin(Bird):\n",
    "    def fly(self):\n",
    "        print(\"Penguins can't fly, but they swim really well!\")\n",
    "\n",
    "def bird_flight_test(bird):\n",
    "    bird.fly()\n",
    "\n",
    "bird1 = Sparrow()\n",
    "bird2 = Penguin()\n",
    "\n",
    "bird_flight_test(bird1)\n",
    "bird_flight_test(bird2)\n",
    "    "
   ]
  },
  {
   "cell_type": "markdown",
   "id": "b4575eaf-4f28-4aff-88bd-3147b94e481a",
   "metadata": {},
   "source": [
    "**5. Write a program to demonstrate encapsulation by creating a class BankAccount with private attributes balance and methods to deposit, withdraw, and check balance**"
   ]
  },
  {
   "cell_type": "code",
   "execution_count": 34,
   "id": "ed263071-99f3-42d0-80d1-e9a351300d88",
   "metadata": {},
   "outputs": [
    {
     "name": "stdout",
     "output_type": "stream",
     "text": [
      "Deposited ₹500\n",
      "Withdrew ₹300\n",
      "Current Balance: ₹1200\n"
     ]
    }
   ],
   "source": [
    "class BankAccount:\n",
    "    def __init__(self, initial_balance=0):\n",
    "        self.__balance = initial_balance  \n",
    "\n",
    "    def deposit(self, amount):\n",
    "        if amount > 0:\n",
    "            self.__balance += amount\n",
    "            print(f\"Deposited ₹{amount}\")\n",
    "        else:\n",
    "            print(\"Invalid deposit amount\")\n",
    "\n",
    "    def withdraw(self, amount):\n",
    "        if 0 < amount <= self.__balance:\n",
    "            self.__balance -= amount\n",
    "            print(f\"Withdrew ₹{amount}\")\n",
    "        else:\n",
    "            print(\"Insufficient balance or invalid amount\")\n",
    "\n",
    "    def check_balance(self):\n",
    "        print(f\"Current Balance: ₹{self.__balance}\")\n",
    "\n",
    "\n",
    "account = BankAccount(1000)\n",
    "account.deposit(500)\n",
    "account.withdraw(300)\n",
    "account.check_balance()"
   ]
  },
  {
   "cell_type": "markdown",
   "id": "0a7cca3d-c2a8-42c4-8a0a-740c50ded8b2",
   "metadata": {},
   "source": [
    "**6. Demonstrate runtime polymorphism using a method play() in a base class Instrument. Derive classes Guitar and Piano that implement their own version of play()**"
   ]
  },
  {
   "cell_type": "code",
   "execution_count": 35,
   "id": "27805753-c04c-4dc1-b39e-c4e2324c5065",
   "metadata": {},
   "outputs": [
    {
     "name": "stdout",
     "output_type": "stream",
     "text": [
      "Strumming the guitar 🎸\n",
      "Playing the piano 🎹\n"
     ]
    }
   ],
   "source": [
    "\n",
    "class Instrument:\n",
    "    def play(self):\n",
    "        print(\"Playing an instrument...\")\n",
    "\n",
    "class Guitar(Instrument):\n",
    "    def play(self):\n",
    "        print(\"Strumming the guitar 🎸\")\n",
    "\n",
    "class Piano(Instrument):\n",
    "    def play(self):\n",
    "        print(\"Playing the piano 🎹\")\n",
    "\n",
    "\n",
    "def start_music(instrument: Instrument):\n",
    "    instrument.play()  \n",
    "\n",
    "\n",
    "guitar = Guitar()\n",
    "piano = Piano()\n",
    "\n",
    "start_music(guitar)  \n",
    "start_music(piano)   \n"
   ]
  },
  {
   "cell_type": "markdown",
   "id": "fd11ddcd-1f20-442f-a787-7ccac11ef782",
   "metadata": {},
   "source": [
    "**7.Create a class MathOperations with a class method add_numbers() to add twoa numbers and a static method subtract_numbers() to subtract two numbers**"
   ]
  },
  {
   "cell_type": "code",
   "execution_count": 36,
   "id": "50d5c3fb-812b-4b70-a29c-609239319904",
   "metadata": {},
   "outputs": [
    {
     "name": "stdout",
     "output_type": "stream",
     "text": [
      "Addition: 15\n",
      "Subtraction: 5\n"
     ]
    }
   ],
   "source": [
    "class MathOperations:\n",
    "    @classmethod\n",
    "    def add_numbers(cls, a, b):\n",
    "        return a + b\n",
    "\n",
    "    @staticmethod\n",
    "    def subtract_numbers(a, b):\n",
    "        return a - b\n",
    "\n",
    "# Example usage\n",
    "result1 = MathOperations.add_numbers(10, 5)\n",
    "result2 = MathOperations.subtract_numbers(10, 5)\n",
    "\n",
    "print(f\"Addition: {result1}\")\n",
    "print(f\"Subtraction: {result2}\")\n"
   ]
  },
  {
   "cell_type": "markdown",
   "id": "6715239e-26c1-4168-ae3a-c005f0692abe",
   "metadata": {},
   "source": [
    "**8. Implement a class Person with a class method to count the total number of persons created.\n",
    "**"
   ]
  },
  {
   "cell_type": "code",
   "execution_count": 38,
   "id": "d145cda4-daf7-4e0f-870a-d6d21cd78c5d",
   "metadata": {},
   "outputs": [
    {
     "name": "stdout",
     "output_type": "stream",
     "text": [
      "Total Persons Created: 3\n"
     ]
    }
   ],
   "source": [
    "class Person:\n",
    "    count = 0 \n",
    "\n",
    "    def __init__(self, name):\n",
    "        self.name = name\n",
    "        Person.count += 1 \n",
    "\n",
    "    @classmethod\n",
    "    def total_persons(cls):\n",
    "        print(f\"Total Persons Created: {cls.count}\")\n",
    "\n",
    "p1 = Person(\"Alice\")\n",
    "p2 = Person(\"Bob\")\n",
    "p3 = Person(\"Charlie\")\n",
    "\n",
    "Person.total_persons()  \n",
    "\n"
   ]
  },
  {
   "cell_type": "markdown",
   "id": "34f819fc-d03d-4b1a-89e2-3d4761371ace",
   "metadata": {},
   "source": [
    "**9.. Write a class Fraction with attributes numerator and denominator. Override the str method to display the fraction as \"numerator/denominator\"**"
   ]
  },
  {
   "cell_type": "code",
   "execution_count": 39,
   "id": "1ed24d2b-a829-4804-b017-9d49f2e5b066",
   "metadata": {},
   "outputs": [
    {
     "name": "stdout",
     "output_type": "stream",
     "text": [
      "3/4\n",
      "5/8\n"
     ]
    }
   ],
   "source": [
    "\n",
    "class Fraction:\n",
    "    def __init__(self, numerator, denominator):\n",
    "        self.numerator = numerator\n",
    "        self.denominator = denominator\n",
    "\n",
    "    def __str__(self):\n",
    "        return f\"{self.numerator}/{self.denominator}\"\n",
    "\n",
    "f1 = Fraction(3, 4)\n",
    "f2 = Fraction(5, 8)\n",
    "\n",
    "print(f1)  \n",
    "print(f2)\n",
    "\n",
    "\n"
   ]
  },
  {
   "cell_type": "markdown",
   "id": "f207225e-ab0c-4316-9a80-59b792325438",
   "metadata": {},
   "source": [
    "**10.0. Demonstrate operator overloading by creating a class Vector and overriding the add method to add two vectors**"
   ]
  },
  {
   "cell_type": "code",
   "execution_count": 41,
   "id": "3a1d0114-8629-4b09-8fe1-c53b6a70867a",
   "metadata": {},
   "outputs": [
    {
     "name": "stdout",
     "output_type": "stream",
     "text": [
      "Vector(2, 3)\n",
      "Vector(4, 5)\n",
      "Vector(6, 8)\n"
     ]
    }
   ],
   "source": [
    "class Vector:\n",
    "    def __init__(self, x, y):\n",
    "        self.x = x\n",
    "        self.y = y\n",
    "\n",
    "    def __add__(self, other):\n",
    "      \n",
    "        return Vector(self.x + other.x, self.y + other.y)\n",
    "\n",
    "    def __str__(self):\n",
    "        return f\"Vector({self.x}, {self.y})\"\n",
    "\n",
    "v1 = Vector(2, 3)\n",
    "v2 = Vector(4, 5)\n",
    "v3 = v1 + v2  # Calls __add__()\n",
    "\n",
    "print(v1)  # Output: Vector(2, 3)\n",
    "print(v2)  # Output: Vector(4, 5)\n",
    "print(v3)  # Output: Vector(6, 8)\n",
    "\n"
   ]
  },
  {
   "cell_type": "markdown",
   "id": "07ee3a97-3597-453a-b4dd-dd0605acb992",
   "metadata": {},
   "source": [
    "**11. Create a class Person with attributes name and age. Add a method greet() that prints \"Hello, my name is {name} and I am {age} years old.\"**"
   ]
  },
  {
   "cell_type": "code",
   "execution_count": 42,
   "id": "c81d587c-9432-40ef-a1cc-a965fcd561fd",
   "metadata": {
    "editable": true,
    "slideshow": {
     "slide_type": ""
    },
    "tags": []
   },
   "outputs": [
    {
     "name": "stdout",
     "output_type": "stream",
     "text": [
      "Hello, my name is Ananya and I am 22 years old.\n"
     ]
    }
   ],
   "source": [
    "class Person:\n",
    "    def __init__(self, name, age):\n",
    "        self.name = name\n",
    "        self.age = age\n",
    "\n",
    "    def greet(self):\n",
    "        print(f\"Hello, my name is {self.name} and I am {self.age} years old.\")\n",
    "\n",
    "p1 = Person(\"Ananya\", 22)\n",
    "p1.greet()\n",
    "\n"
   ]
  },
  {
   "cell_type": "markdown",
   "id": "8c8593d0-98ff-46d0-bde4-bd608753762f",
   "metadata": {},
   "source": [
    "** 12. Implement a class Student with attributes name and grades. Create a method average_grade() to compute the average of the grades.**"
   ]
  },
  {
   "cell_type": "code",
   "execution_count": 43,
   "id": "b85aab87-d797-4ef1-92be-affd65aed9b0",
   "metadata": {},
   "outputs": [
    {
     "name": "stdout",
     "output_type": "stream",
     "text": [
      "Ravi's average grade is: 86.25\n",
      "Ravi's average grade is: 86.25\n"
     ]
    }
   ],
   "source": [
    "class Student:\n",
    "    def __init__(self, name, grades):\n",
    "        self.name = name\n",
    "        self.grades = grades \n",
    "\n",
    "    def average_grade(self):\n",
    "        if not self.grades:\n",
    "            return 0\n",
    "        return sum(self.grades) / len(self.grades)\n",
    "student1 = Student(\"Ravi\", [85, 90, 78, 92])\n",
    "average = student1.average_grade()\n",
    "print(f\"{student1.name}'s average grade is: {average:.2f}\")\n",
    "\n",
    "student1 = Student(\"Ravi\", [85, 90, 78, 92])\n",
    "average = student1.average_grade()\n",
    "print(f\"{student1.name}'s average grade is: {average:.2f}\")\n",
    "\n"
   ]
  },
  {
   "cell_type": "markdown",
   "id": "7e74f67b-60cd-4eef-9773-71ad3eca7e0f",
   "metadata": {},
   "source": [
    "**13. Create a clas/s Rectangle with methods set_dimensions() to set the dimensions and area() to calculate the area/**"
   ]
  },
  {
   "cell_type": "code",
   "execution_count": 44,
   "id": "b4d6870a-9737-4ce4-a594-442cc90c57d1",
   "metadata": {},
   "outputs": [
    {
     "name": "stdout",
     "output_type": "stream",
     "text": [
      "Area of rectangle: 50\n"
     ]
    }
   ],
   "source": [
    "class Rectangle:\n",
    "    def __init__(self):\n",
    "        self.width = 0\n",
    "        self.height = 0\n",
    "\n",
    "    def set_dimensions(self, width, height):\n",
    "        self.width = width\n",
    "        self.height = height\n",
    "\n",
    "    def area(self):\n",
    "        return self.width * self.height\n",
    "\n",
    "rect = Rectangle()\n",
    "rect.set_dimensions(5, 10)\n",
    "print(f\"Area of rectangle: {rect.area()}\")\n",
    "\n"
   ]
  },
  {
   "cell_type": "markdown",
   "id": "7b7f6e7b-62ac-4a4a-973e-d7d7b639a144",
   "metadata": {},
   "source": [
    "**14. Create a class Employee with a method calculate_salary() that computes the salary based on hours worked and hourly rate. Create a derived class Manager that adds a bonus to the salary**"
   ]
  },
  {
   "cell_type": "code",
   "execution_count": 45,
   "id": "28cff3a2-638b-42c9-9f1a-9890e382d90f",
   "metadata": {},
   "outputs": [
    {
     "name": "stdout",
     "output_type": "stream",
     "text": [
      "Amit's Salary: ₹20000\n",
      "Sneha's Salary (with bonus): ₹25000\n"
     ]
    }
   ],
   "source": [
    "# Base class\n",
    "class Employee:\n",
    "    def __init__(self, name, hours_worked, hourly_rate):\n",
    "        self.name = name\n",
    "        self.hours_worked = hours_worked\n",
    "        self.hourly_rate = hourly_rate\n",
    "\n",
    "    def calculate_salary(self):\n",
    "        return self.hours_worked * self.hourly_rate\n",
    "\n",
    "# Derived class\n",
    "class Manager(Employee):\n",
    "    def __init__(self, name, hours_worked, hourly_rate, bonus):\n",
    "        super().__init__(name, hours_worked, hourly_rate)\n",
    "        self.bonus = bonus\n",
    "\n",
    "    def calculate_salary(self):\n",
    "        base_salary = super().calculate_salary()\n",
    "        return base_salary + self.bonus\n",
    "emp = Employee(\"Amit\", 40, 500)\n",
    "mgr = Manager(\"Sneha\", 40, 500, 5000)\n",
    "\n",
    "print(f\"{emp.name}'s Salary: ₹{emp.calculate_salary()}\")\n",
    "print(f\"{mgr.name}'s Salary (with bonus): ₹{mgr.calculate_salary()}\")\n"
   ]
  },
  {
   "cell_type": "markdown",
   "id": "4cf65460-c987-4736-864c-ac89f9ad237e",
   "metadata": {},
   "source": [
    "**13. Create a class Rectangle with methods set_dimensions() to set the dimensions and area() to calculate the area.**"
   ]
  },
  {
   "cell_type": "code",
   "execution_count": 46,
   "id": "c2d921b0-a3c3-4b5e-ae3d-fdfaa4ecbfae",
   "metadata": {},
   "outputs": [
    {
     "name": "stdout",
     "output_type": "stream",
     "text": [
      "Area of the rectangle: 40\n"
     ]
    }
   ],
   "source": [
    "class Rectangle:\n",
    "    def __init__(self):\n",
    "        self.length = 0\n",
    "        self.width = 0\n",
    "\n",
    "    def set_dimensions(self, length, width):\n",
    "        self.length = length\n",
    "        self.width = width\n",
    "\n",
    "    def area(self):\n",
    "        return self.length * self.width\n",
    "\n",
    "rect = Rectangle()\n",
    "rect.set_dimensions(8, 5)\n",
    "print(f\"Area of the rectangle: {rect.area()}\")\n",
    "\n"
   ]
  },
  {
   "cell_type": "markdown",
   "id": "1bb59a1a-f669-468c-a1a4-c50b0ee0414f",
   "metadata": {},
   "source": [
    "**14. Create a class Employee with a method calculate_salary() that computes the salary based on hours worked and hourly rate. Create a derived class Manager that adds a bonus to the salary.**"
   ]
  },
  {
   "cell_type": "code",
   "execution_count": 47,
   "id": "ab34656b-4183-4778-b41c-7f2a477e74df",
   "metadata": {},
   "outputs": [
    {
     "name": "stdout",
     "output_type": "stream",
     "text": [
      "Rohit's Salary: ₹12000\n",
      "Anjali's Salary (with bonus): ₹17000\n"
     ]
    }
   ],
   "source": [
    "# Base class\n",
    "class Employee:\n",
    "    def __init__(self, name, hours_worked, hourly_rate):\n",
    "        self.name = name\n",
    "        self.hours_worked = hours_worked\n",
    "        self.hourly_rate = hourly_rate\n",
    "\n",
    "    def calculate_salary(self):\n",
    "        return self.hours_worked * self.hourly_rate\n",
    "\n",
    "# Derived class\n",
    "class Manager(Employee):\n",
    "    def __init__(self, name, hours_worked, hourly_rate, bonus):\n",
    "        super().__init__(name, hours_worked, hourly_rate)\n",
    "        self.bonus = bonus\n",
    "\n",
    "    def calculate_salary(self):\n",
    "        base_salary = super().calculate_salary()\n",
    "        return base_salary + self.bonus\n",
    "emp = Employee(\"Rohit\", 40, 300)\n",
    "mgr = Manager(\"Anjali\", 40, 300, 5000)\n",
    "\n",
    "print(f\"{emp.name}'s Salary: ₹{emp.calculate_salary()}\")\n",
    "print(f\"{mgr.name}'s Salary (with bonus): ₹{mgr.calculate_salary()}\")\n"
   ]
  },
  {
   "cell_type": "markdown",
   "id": "32bd4928-2e12-4817-b98f-90a29d5f3156",
   "metadata": {},
   "source": [
    "15. Create a class Product with attributes name, price, and quantity. Implement a method total_price() that calculates the total price of the product"
   ]
  },
  {
   "cell_type": "code",
   "execution_count": 48,
   "id": "1ec2adf5-0f93-42da-9010-c9c370dc8b53",
   "metadata": {},
   "outputs": [
    {
     "name": "stdout",
     "output_type": "stream",
     "text": [
      "Total price of Laptop: ₹100000\n",
      "Total price of Mouse: ₹2400\n"
     ]
    }
   ],
   "source": [
    "class Product:\n",
    "    def __init__(self, name, price, quantity):\n",
    "        self.name = name\n",
    "        self.price = price\n",
    "        self.quantity = quantity\n",
    "\n",
    "    def total_price(self):\n",
    "        return self.price * self.quantity\n",
    "product1 = Product(\"Laptop\", 50000, 2)\n",
    "product2 = Product(\"Mouse\", 800, 3)\n",
    "\n",
    "print(f\"Total price of {product1.name}: ₹{product1.total_price()}\")\n",
    "print(f\"Total price of {product2.name}: ₹{product2.total_price()}\")\n"
   ]
  },
  {
   "cell_type": "markdown",
   "id": "be32b5e0-ba2a-4477-9e44-c9a3ffcc67ef",
   "metadata": {},
   "source": [
    "**16. Create a class Animal with an abstract method sound(). Create two derived classes Cow and Sheep that implement the sound() method**"
   ]
  },
  {
   "cell_type": "code",
   "execution_count": 49,
   "id": "32662f28-d1e3-46a8-920d-b3ce5fe5cb4c",
   "metadata": {},
   "outputs": [
    {
     "name": "stdout",
     "output_type": "stream",
     "text": [
      "Cow says: Moo\n",
      "Sheep says: Baa\n"
     ]
    }
   ],
   "source": [
    "from abc import ABC, abstractmethod\n",
    "\n",
    "# Abstract base class\n",
    "class Animal(ABC):\n",
    "    @abstractmethod\n",
    "    def sound(self):\n",
    "        pass\n",
    "\n",
    "# Derived class: Cow\n",
    "class Cow(Animal):\n",
    "    def sound(self):\n",
    "        return \"Moo\"\n",
    "\n",
    "# Derived class: Sheep\n",
    "class Sheep(Animal):\n",
    "    def sound(self):\n",
    "        return \"Baa\"\n",
    "\n",
    "cow = Cow()\n",
    "sheep = Sheep()\n",
    "\n",
    "print(f\"Cow says: {cow.sound()}\")\n",
    "print(f\"Sheep says: {sheep.sound()}\")\n",
    "\n"
   ]
  },
  {
   "cell_type": "markdown",
   "id": "36da809f-3b51-4ae1-8d96-d2f3be925dbe",
   "metadata": {},
   "source": [
    "**17. Create a class Book with attributes title, author, and year_published. Add a method get_book_info() that returns a formatted string with the book's details.**"
   ]
  },
  {
   "cell_type": "code",
   "execution_count": 50,
   "id": "22ee8f89-a4d4-44da-b82c-637ba03a22cc",
   "metadata": {},
   "outputs": [
    {
     "name": "stdout",
     "output_type": "stream",
     "text": [
      "'To Kill a Mockingbird' by Harper Lee (Published in 1960)\n",
      "'The Alchemist' by Paulo Coelho (Published in 1988)\n"
     ]
    }
   ],
   "source": [
    "class Book:\n",
    "    def __init__(self, title, author, year_published):\n",
    "        self.title = title\n",
    "        self.author = author\n",
    "        self.year_published = year_published\n",
    "\n",
    "    def get_book_info(self):\n",
    "        return f\"'{self.title}' by {self.author} (Published in {self.year_published})\"\n",
    "book1 = Book(\"To Kill a Mockingbird\", \"Harper Lee\", 1960)\n",
    "book2 = Book(\"The Alchemist\", \"Paulo Coelho\", 1988)\n",
    "\n",
    "print(book1.get_book_info())\n",
    "print(book2.get_book_info())\n"
   ]
  },
  {
   "cell_type": "markdown",
   "id": "fa76b641-a5f3-4e3a-b39d-77c480636ef1",
   "metadata": {},
   "source": [
    "**18. Create a class House with attributes address and price. Create a derived class Mansion that adds an attribute number_of_rooms**"
   ]
  },
  {
   "cell_type": "code",
   "execution_count": 51,
   "id": "184b5d5f-dbff-4cbe-b774-7aea5f46c08a",
   "metadata": {},
   "outputs": [
    {
     "name": "stdout",
     "output_type": "stream",
     "text": [
      "House located at 123 Green Street, priced at ₹7500000\n",
      "Mansion at 456 Royal Avenue, Price: ₹25000000, Rooms: 10\n"
     ]
    }
   ],
   "source": [
    "class House:\n",
    "    def __init__(self, address, price):\n",
    "        self.address = address\n",
    "        self.price = price\n",
    "\n",
    "    def get_info(self):\n",
    "        return f\"House located at {self.address}, priced at ₹{self.price}\"\n",
    "\n",
    "# Derived class\n",
    "class Mansion(House):\n",
    "    def __init__(self, address, price, number_of_rooms):\n",
    "        super().__init__(address, price)\n",
    "        self.number_of_rooms = number_of_rooms\n",
    "\n",
    "    def get_info(self):\n",
    "        return f\"Mansion at {self.address}, Price: ₹{self.price}, Rooms: {self.number_of_rooms}\"\n",
    "\n",
    "house = House(\"123 Green Street\", 7500000)\n",
    "mansion = Mansion(\"456 Royal Avenue\", 25000000, 10)\n",
    "\n",
    "print(house.get_info())\n",
    "print(mansion.get_info())\n",
    "\n"
   ]
  },
  {
   "cell_type": "code",
   "execution_count": null,
   "id": "f535b932-4e4e-413c-9478-e2eb012d3a2a",
   "metadata": {},
   "outputs": [],
   "source": []
  }
 ],
 "metadata": {
  "kernelspec": {
   "display_name": "Python 3 (ipykernel)",
   "language": "python",
   "name": "python3"
  },
  "language_info": {
   "codemirror_mode": {
    "name": "ipython",
    "version": 3
   },
   "file_extension": ".py",
   "mimetype": "text/x-python",
   "name": "python",
   "nbconvert_exporter": "python",
   "pygments_lexer": "ipython3",
   "version": "3.12.7"
  }
 },
 "nbformat": 4,
 "nbformat_minor": 5
}
