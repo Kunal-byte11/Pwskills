{
 "cells": [
  {
   "cell_type": "markdown",
   "id": "e0fb6d05-ecaf-4a77-a6b5-47a7939dd326",
   "metadata": {},
   "source": [
    "Python Basics(Assignment1) "
   ]
  },
  {
   "cell_type": "markdown",
   "id": "3fa9d50d-a30a-4650-80ac-f284200a4c61",
   "metadata": {},
   "source": [
    "1.What is Python, and why is it popular"
   ]
  },
  {
   "cell_type": "raw",
   "id": "46bbf1bc-4daf-4980-8794-ee40901b3221",
   "metadata": {},
   "source": [
    "Ans:- 1.Python is a high-level, general-purpose programming language with simple and readable syntax. It is widely used for web development, data science, machine learning, and automation.\n",
    "2.Why popular? Beginner-friendly, versatile, vast libraries, and strong community support.\n"
   ]
  },
  {
   "cell_type": "markdown",
   "id": "441d882d-9762-4a69-840e-b32a954d1bf8",
   "metadata": {},
   "source": [
    "2.What is an interpreter in Python?"
   ]
  },
  {
   "cell_type": "raw",
   "id": "8822c20e-7d56-4f44-aa22-61d3976d554e",
   "metadata": {},
   "source": [
    "Ans:- An interpreter in Python executes the code line by line, converting it into machine-readable format. It enables dynamic execution of Python scripts.\n"
   ]
  },
  {
   "cell_type": "markdown",
   "id": "0f4d2bbc-f7e5-44c0-850d-0ff97e230d76",
   "metadata": {},
   "source": [
    "3.What are pre-defined keywords in Python?"
   ]
  },
  {
   "cell_type": "raw",
   "id": "d56862b1-b9e1-4f26-9109-0713500e5507",
   "metadata": {},
   "source": [
    "Ans:- Pre-defined keywords are reserved words in Python with specific meanings and cannot be used for any other purpose (e.g., if, else, for, while, def, class)."
   ]
  },
  {
   "cell_type": "markdown",
   "id": "08aee77d-6aca-42b9-98a4-57c7ae4b0153",
   "metadata": {},
   "source": [
    "4. Can keywords be used as variable names?"
   ]
  },
  {
   "cell_type": "raw",
   "id": "653cf44d-e01d-4621-a4a8-cb1c1fc9bfef",
   "metadata": {},
   "source": [
    "Ans:-No, keywords cannot be used as variable names because they are reserved for Python's syntax and functionality."
   ]
  },
  {
   "cell_type": "markdown",
   "id": "87beeba2-d0b1-4309-96a2-99864f12ba6b",
   "metadata": {},
   "source": [
    "5.What is mutability in Python"
   ]
  },
  {
   "cell_type": "raw",
   "id": "eea7f3b2-c842-4062-a26f-22a76c1f4bb3",
   "metadata": {},
   "source": [
    "Mutability refers to whether an object’s value can be changed after creation:\n",
    "Mutable: Can be changed (e.g., lists, dictionaries).\n",
    "Immutable: Cannot be changed (e.g., strings, tuples).\n"
   ]
  },
  {
   "cell_type": "markdown",
   "id": "c5aed541-aba7-4d60-b82b-d7f803dec48a",
   "metadata": {},
   "source": [
    "6.Why are lists mutable, but tuples are immutable"
   ]
  },
  {
   "cell_type": "raw",
   "id": "4a4c7561-6599-43a1-863f-bee516e91a8d",
   "metadata": {},
   "source": [
    "Lists are mutable to allow flexibility in modifying, adding, or removing elements.\n",
    "Tuples are immutable for faster access and to protect data integrity."
   ]
  },
  {
   "cell_type": "markdown",
   "id": "1a218c56-008a-4421-be19-84424b11396d",
   "metadata": {},
   "source": [
    "7. What is the difference between “==” and “is” operators in Python?"
   ]
  },
  {
   "cell_type": "raw",
   "id": "8ef5b4a6-caaf-4bf2-a9a4-8861f0c9e3c5",
   "metadata": {},
   "source": [
    "==: Compares values of two objects (e.g., 5 == 5 → True).\n",
    "is: Compares identity (memory location) of two objects (e.g., a is b → True if a and b point to the same object).\n"
   ]
  },
  {
   "cell_type": "markdown",
   "id": "e4cfba32-1968-494c-9329-e8b46a265818",
   "metadata": {},
   "source": [
    "8.What are logical operators in Python"
   ]
  },
  {
   "cell_type": "raw",
   "id": "d9861aa5-c777-4f54-b420-4d0c4441f64d",
   "metadata": {},
   "source": [
    "Logical operators in Python include:\n",
    "and: Returns True if both conditions are true.\n",
    "or: Returns True if at least one condition is true.\n",
    "not: Negates a condition."
   ]
  },
  {
   "cell_type": "markdown",
   "id": "5ba41a59-9b17-48a9-91df-d7cca9d43f76",
   "metadata": {},
   "source": [
    "9. What is type casting in Python?"
   ]
  },
  {
   "cell_type": "raw",
   "id": "c3e10f0d-b300-4cf6-b75b-639c87da34f6",
   "metadata": {},
   "source": [
    "Type casting is converting one data type to another (e.g., int('10') → 10)."
   ]
  },
  {
   "cell_type": "markdown",
   "id": "6d890ed1-e2da-4ad1-8268-cbffc07127ad",
   "metadata": {},
   "source": [
    "10. What is the difference between implicit and explicit type casting?"
   ]
  },
  {
   "cell_type": "raw",
   "id": "4949426d-9559-4a08-bee6-81fea527db7a",
   "metadata": {},
   "source": [
    "Implicit: Python automatically converts types (e.g., 3 + 2.5 → 5.5).\n",
    "Explicit: The programmer manually converts types using functions like int(), str()."
   ]
  },
  {
   "cell_type": "markdown",
   "id": "67b69a76-d966-42ca-9364-095fb8293f9b",
   "metadata": {},
   "source": [
    "What is the purpose of conditional statements in Python?"
   ]
  },
  {
   "cell_type": "raw",
   "id": "a0ce739d-60de-4dec-bf86-f31b6f2185b5",
   "metadata": {},
   "source": [
    "Conditional statements allow Python to execute different blocks of code based on conditions (e.g., if, elif, else)."
   ]
  },
  {
   "cell_type": "markdown",
   "id": "5a19ab6f-8684-45b4-ae6c-1c4df9eaa4d3",
   "metadata": {},
   "source": [
    "12. How does the elif statement work?"
   ]
  },
  {
   "cell_type": "raw",
   "id": "924c8047-72e0-4359-8786-c96da076bf2d",
   "metadata": {},
   "source": [
    "elif provides additional conditions after an if statement10\")\r\n"
   ]
  },
  {
   "cell_type": "raw",
   "id": "b352c0d3-b6cb-4e05-9822-82756c368da7",
   "metadata": {},
   "source": [
    "if x > 10:\n",
    "    print(\"x is greater than 10\")\n",
    "elif x == 10:\n",
    "    print(\"x is 10\")\n",
    "else:\n",
    "    print(\"x is less than 10\")\n"
   ]
  },
  {
   "cell_type": "markdown",
   "id": "06128300-07e4-4542-a2fc-f0708031179a",
   "metadata": {},
   "source": [
    "13. What is the difference between for and while loops?"
   ]
  },
  {
   "cell_type": "raw",
   "id": "4fdab4de-bc19-450c-a7dd-6dafaf0bbbdb",
   "metadata": {},
   "source": [
    "For loop: Iterates over a sequence (e.g., list, range).\n",
    "While loop: Repeats until a condition becomes False."
   ]
  },
  {
   "cell_type": "markdown",
   "id": "d58dc811-2560-4a4d-87d8-be429b14c245",
   "metadata": {},
   "source": [
    "14. Describe a scenario where a while loop is more suitable than a for loop."
   ]
  },
  {
   "cell_type": "raw",
   "id": "35a03250-0b8f-4f4e-8325-ced69a870894",
   "metadata": {},
   "source": [
    "A while loop is better when the number of iterations is unknown, and it depends on a condition:"
   ]
  },
  {
   "cell_type": "markdown",
   "id": "464bcb54-1658-47e5-b222-d044e1c331c9",
   "metadata": {},
   "source": [
    "CODE"
   ]
  },
  {
   "cell_type": "markdown",
   "id": "2d042b2f-8477-432f-bdb6-8a99e412f094",
   "metadata": {},
   "source": [
    "///////////////////////////////////////////////////////////////////////////////////////////////////////"
   ]
  },
  {
   "cell_type": "markdown",
   "id": "e940c84d-a424-4502-bff1-cf79f1f1951d",
   "metadata": {},
   "source": [
    "1. Write a Python program to print \"Hello, World!."
   ]
  },
  {
   "cell_type": "code",
   "execution_count": 2,
   "id": "fdd0955c-86c9-48ed-b94a-cdecb656f264",
   "metadata": {},
   "outputs": [
    {
     "name": "stdout",
     "output_type": "stream",
     "text": [
      "Hello World\n"
     ]
    }
   ],
   "source": [
    "print(\"Hello World\")"
   ]
  },
  {
   "cell_type": "markdown",
   "id": "6fcc8177-3671-44d3-b9dc-0d4257d7f526",
   "metadata": {},
   "source": [
    " 2.Write a Python program that displays your name and age"
   ]
  },
  {
   "cell_type": "code",
   "execution_count": 4,
   "id": "f3326488-ed99-4f70-849f-14d6874dc379",
   "metadata": {},
   "outputs": [
    {
     "name": "stdout",
     "output_type": "stream",
     "text": [
      "My name is: Kunal\n",
      "age is:- 20\n"
     ]
    }
   ],
   "source": [
    "name=\"Kunal\"\n",
    "age=20\n",
    "print(\"My name is:\",name)\n",
    "print(\"age is:-\",age)"
   ]
  },
  {
   "cell_type": "markdown",
   "id": "bb6bc7b4-2c53-48bc-96c8-2c0c441b9a52",
   "metadata": {},
   "source": [
    "3. Write code to print all the pre-defined keywords in Python using the keyword library"
   ]
  },
  {
   "cell_type": "code",
   "execution_count": 6,
   "id": "8a20efca-4e7f-4b9f-8038-9908dc913ace",
   "metadata": {},
   "outputs": [
    {
     "name": "stdout",
     "output_type": "stream",
     "text": [
      "\n",
      "Here is a list of the Python keywords.  Enter any keyword to get more help.\n",
      "\n",
      "False               class               from                or\n",
      "None                continue            global              pass\n",
      "True                def                 if                  raise\n",
      "and                 del                 import              return\n",
      "as                  elif                in                  try\n",
      "assert              else                is                  while\n",
      "async               except              lambda              with\n",
      "await               finally             nonlocal            yield\n",
      "break               for                 not                 \n",
      "\n"
     ]
    }
   ],
   "source": [
    "help('keywords')"
   ]
  },
  {
   "cell_type": "markdown",
   "id": "f4bb4b84-1a93-4833-8553-75217020ee74",
   "metadata": {},
   "source": [
    "4. Write a program that checks if a given word is a Python keyword"
   ]
  },
  {
   "cell_type": "code",
   "execution_count": 8,
   "id": "df5f15ea-7aaa-4225-b4d9-664464f0fc79",
   "metadata": {},
   "outputs": [
    {
     "name": "stdout",
     "output_type": "stream",
     "text": [
      "'def' is a Python keyword.\n"
     ]
    }
   ],
   "source": [
    "import keyword\n",
    "\n",
    "def is_keyword(word):\n",
    "    return keyword.iskeyword(word)\n",
    "\n",
    "\n",
    "word = \"def\"\n",
    "if is_keyword(word):\n",
    "    print(f\"'{word}' is a Python keyword.\")\n",
    "else:\n",
    "    print(f\"'{word}' is not a Python keyword.\")\n"
   ]
  },
  {
   "cell_type": "markdown",
   "id": "a7f0e48c-e250-4de0-9236-42e4b4982b3d",
   "metadata": {},
   "source": [
    "5. Create a list and tuple in Python, and demonstrate how attempting to change an element works differently \n",
    "for each."
   ]
  },
  {
   "cell_type": "code",
   "execution_count": 9,
   "id": "f223c3db-9a28-4a22-8bf3-0dfb43979cdd",
   "metadata": {},
   "outputs": [
    {
     "name": "stdout",
     "output_type": "stream",
     "text": [
      "Original list: [1, 2, 3, 4]\n",
      "Modified list: [1, 99, 3, 4]\n",
      "\n",
      "Original tuple: (1, 2, 3, 4)\n",
      "Error: 'tuple' object does not support item assignment\n"
     ]
    }
   ],
   "source": [
    "\n",
    "my_list = [1, 2, 3, 4]\n",
    "print(\"Original list:\", my_list)\n",
    "my_list[1] = 99  \n",
    "print(\"Modified list:\", my_list)\n",
    "\n",
    "\n",
    "my_tuple = (1, 2, 3, 4)\n",
    "print(\"\\nOriginal tuple:\", my_tuple)\n",
    "try:\n",
    "    my_tuple[1] = 99  \n",
    "except TypeError as e:\n",
    "    print(\"Error:\", e)\n"
   ]
  },
  {
   "cell_type": "markdown",
   "id": "670bbde4-9f1b-461b-baf4-4931aa13ca37",
   "metadata": {},
   "source": [
    " 6.Write a function to demonstrate the behavior of mutable and immutable arguments."
   ]
  },
  {
   "cell_type": "code",
   "execution_count": 10,
   "id": "f8c05364-fd5f-41ed-961e-d8e78b5df7bc",
   "metadata": {},
   "outputs": [
    {
     "name": "stdout",
     "output_type": "stream",
     "text": [
      "Before function call:\n",
      "Mutable object (list): [1, 2, 3]\n",
      "Immutable object (int): 10\n",
      "\n",
      "After function call:\n",
      "Mutable object (list): [1, 2, 3, 99]\n",
      "Immutable object (int): 10\n"
     ]
    }
   ],
   "source": [
    "def modify_arguments(mutable_obj, immutable_obj):\n",
    "    \n",
    "    mutable_obj.append(99)\n",
    "    \n",
    "    \n",
    "    immutable_obj += 1  \n",
    "\n",
    "\n",
    "mutable_list = [1, 2, 3]\n",
    "immutable_int = 10\n",
    "\n",
    "\n",
    "print(\"Before function call:\")\n",
    "print(\"Mutable object (list):\", mutable_list)\n",
    "print(\"Immutable object (int):\", immutable_int)\n",
    "\n",
    "\n",
    "modify_arguments(mutable_list, immutable_int)\n",
    "\n",
    "\n",
    "print(\"\\nAfter function call:\")\n",
    "print(\"Mutable object (list):\", mutable_list) \n",
    "print(\"Immutable object (int):\", immutable_int)  \n"
   ]
  },
  {
   "cell_type": "markdown",
   "id": "f4c0943f-cbdf-4e71-8c47-9afe62032153",
   "metadata": {},
   "source": [
    "7.Write a program to demonstrate the use of logical operators."
   ]
  },
  {
   "cell_type": "code",
   "execution_count": 11,
   "id": "8ada0ea7-d562-4a0b-99ad-5f981c3449af",
   "metadata": {},
   "outputs": [
    {
     "name": "stdin",
     "output_type": "stream",
     "text": [
      "Enter the first number:  1\n",
      "Enter the second number:  4\n"
     ]
    },
    {
     "name": "stdout",
     "output_type": "stream",
     "text": [
      "Both numbers are positive.\n",
      "At least one number is positive.\n",
      "Not both numbers are negative.\n"
     ]
    }
   ],
   "source": [
    "def logical_operators_demo():\n",
    "    \n",
    "    num1 = int(input(\"Enter the first number: \"))\n",
    "    num2 = int(input(\"Enter the second number: \"))\n",
    "\n",
    "   \n",
    "    if num1 > 0 and num2 > 0:\n",
    "        print(\"Both numbers are positive.\")\n",
    "\n",
    "    \n",
    "    if num1 > 0 or num2 > 0:\n",
    "        print(\"At least one number is positive.\")\n",
    "\n",
    "   \n",
    "    if not (num1 < 0 and num2 < 0):\n",
    "        print(\"Not both numbers are negative.\")\n",
    "\n",
    "\n",
    "logical_operators_demo()\n"
   ]
  },
  {
   "cell_type": "markdown",
   "id": "bdaef958-35b4-4f48-a37f-6f53d4e7e6df",
   "metadata": {},
   "source": [
    "8.Write a Python program to convert user input from string to integer, float, and boolean types."
   ]
  },
  {
   "cell_type": "code",
   "execution_count": 12,
   "id": "a0682d0f-4cf2-4fab-9f2a-a72014f7b4ca",
   "metadata": {},
   "outputs": [
    {
     "name": "stdin",
     "output_type": "stream",
     "text": [
      "Enter a value:  4\n"
     ]
    },
    {
     "name": "stdout",
     "output_type": "stream",
     "text": [
      "Integer: 4\n",
      "Float: 4.0\n",
      "Boolean: True\n"
     ]
    }
   ],
   "source": [
    "def convert_input():\n",
    "   \n",
    "    user_input = input(\"Enter a value: \")\n",
    "\n",
    "    \n",
    "    try:\n",
    "        int_value = int(user_input)\n",
    "        print(f\"Integer: {int_value}\")\n",
    "    except ValueError:\n",
    "        print(\"Cannot convert to Integer.\")\n",
    "\n",
    "   \n",
    "    try:\n",
    "        float_value = float(user_input)\n",
    "        print(f\"Float: {float_value}\")\n",
    "    except ValueError:\n",
    "        print(\"Cannot convert to Float.\")\n",
    "\n",
    "  \n",
    "    bool_value = bool(user_input)\n",
    "    print(f\"Boolean: {bool_value}\")\n",
    "\n",
    "\n",
    "convert_input()\n"
   ]
  },
  {
   "cell_type": "markdown",
   "id": "daf725b1-2ab1-41d6-9e66-937080847ae2",
   "metadata": {},
   "source": [
    "9. Write code to demonstrate type casting with list elements."
   ]
  },
  {
   "cell_type": "code",
   "execution_count": 14,
   "id": "6c99ac61-ea82-481b-9c4b-a470987ec524",
   "metadata": {},
   "outputs": [
    {
     "name": "stdout",
     "output_type": "stream",
     "text": [
      "Original List: ['10', '20.5', 'True', 'False', 'hello']\n",
      "Casted to Integers: [10, 20]\n",
      "Casted to Floats: [10.0, 20.5]\n",
      "Casted to Booleans: [True, True, True, True, True]\n"
     ]
    }
   ],
   "source": [
    "\n",
    "data_list = [\"10\", \"20.5\", \"True\", \"False\", \"hello\"]\n",
    "\n",
    "\n",
    "int_list = []\n",
    "float_list = []\n",
    "bool_list = []\n",
    "\n",
    "\n",
    "for element in data_list:\n",
    "    \n",
    "    try:\n",
    "        int_value = int(float(element))  \n",
    "        int_list.append(int_value)\n",
    "    except ValueError:\n",
    "        pass\n",
    "\n",
    "   \n",
    "    try:\n",
    "        float_value = float(element)\n",
    "        float_list.append(float_value)\n",
    "    except ValueError:\n",
    "        pass\n",
    "\n",
    "    \n",
    "    try:\n",
    "        bool_value = bool(element)  \n",
    "        bool_list.append(bool_value)\n",
    "    except ValueError:\n",
    "        pass\n",
    "\n",
    "\n",
    "print(\"Original List:\", data_list)\n",
    "print(\"Casted to Integers:\", int_list)\n",
    "print(\"Casted to Floats:\", float_list)\n",
    "print(\"Casted to Booleans:\", bool_list)\n"
   ]
  },
  {
   "cell_type": "markdown",
   "id": "a46a74bb-d3da-47e2-8e88-e680e92a3c40",
   "metadata": {},
   "source": [
    " 10. Write a program that checks if a number is positive, negative, or zero."
   ]
  },
  {
   "cell_type": "code",
   "execution_count": 16,
   "id": "f9e3fc4a-1eb0-4729-93bc-6684ebfd9a53",
   "metadata": {},
   "outputs": [
    {
     "name": "stdin",
     "output_type": "stream",
     "text": [
      "Enter a number:  15\n"
     ]
    },
    {
     "name": "stdout",
     "output_type": "stream",
     "text": [
      "15.0 is a positive number.\n"
     ]
    }
   ],
   "source": [
    "\n",
    "def check_number(num):\n",
    "    if num > 0:\n",
    "        print(f\"{num} is a positive number.\")\n",
    "    elif num < 0:\n",
    "        print(f\"{num} is a negative number.\")\n",
    "    else:\n",
    "        print(f\"{num} is zero.\")\n",
    "\n",
    "\n",
    "number = float(input(\"Enter a number: \"))\n",
    "\n",
    "\n",
    "check_number(number)\n"
   ]
  },
  {
   "cell_type": "markdown",
   "id": "e3175527-e3c9-4eae-b994-bceb0a57794f",
   "metadata": {},
   "source": [
    " 11.Write a for loop to print numbers from 1 to 10."
   ]
  },
  {
   "cell_type": "code",
   "execution_count": 17,
   "id": "ccc17de0-2c46-4b3f-8dab-000fdfb4533b",
   "metadata": {},
   "outputs": [
    {
     "name": "stdout",
     "output_type": "stream",
     "text": [
      "1\n",
      "2\n",
      "3\n",
      "4\n",
      "5\n",
      "6\n",
      "7\n",
      "8\n",
      "9\n",
      "10\n"
     ]
    }
   ],
   "source": [
    "\n",
    "for num in range(1, 11):  \n",
    "    print(num)\n"
   ]
  },
  {
   "cell_type": "markdown",
   "id": "d50bccc5-e487-4d64-84a3-ef9ad041514c",
   "metadata": {},
   "source": [
    "12. Write a Python program to find the sum of all even numbers between 1 and 50."
   ]
  },
  {
   "cell_type": "code",
   "execution_count": 18,
   "id": "68aeba63-0d36-4187-98c1-8ea6af7bb4e2",
   "metadata": {},
   "outputs": [
    {
     "name": "stdout",
     "output_type": "stream",
     "text": [
      "The sum of all even numbers between 1 and 50 is: 650\n"
     ]
    }
   ],
   "source": [
    "\n",
    "sum_even = 0\n",
    "\n",
    "\n",
    "for num in range(1, 51):\n",
    "    if num % 2 == 0:  \n",
    "        sum_even += num \n",
    "\n",
    "\n",
    "print(\"The sum of all even numbers between 1 and 50 is:\", sum_even)\n"
   ]
  },
  {
   "cell_type": "markdown",
   "id": "a38d7ee1-730f-4b3b-8685-d4117bfe05fb",
   "metadata": {},
   "source": [
    "13. Write a program to reverse a string using a while loop."
   ]
  },
  {
   "cell_type": "code",
   "execution_count": 19,
   "id": "150f1ff0-4dce-4127-a9f9-8c6e3f190e62",
   "metadata": {},
   "outputs": [
    {
     "name": "stdin",
     "output_type": "stream",
     "text": [
      "Enter a string:  hello\n"
     ]
    },
    {
     "name": "stdout",
     "output_type": "stream",
     "text": [
      "Reversed string: olleh\n"
     ]
    }
   ],
   "source": [
    "\n",
    "original_string = input(\"Enter a string: \")\n",
    "\n",
    "\n",
    "reversed_string = \"\"\n",
    "\n",
    "\n",
    "index = len(original_string) - 1\n",
    "\n",
    "\n",
    "while index >= 0:\n",
    "    reversed_string += original_string[index]\n",
    "    index -= 1  \n",
    "\n",
    "\n",
    "print(\"Reversed string:\", reversed_string)\n"
   ]
  },
  {
   "cell_type": "markdown",
   "id": "fc2faa44-d4da-4e87-96a9-17f0c1bd0d71",
   "metadata": {},
   "source": [
    "14.Write a Python program to calculate the factorial of a number provided by the user using a while loop."
   ]
  },
  {
   "cell_type": "code",
   "execution_count": 20,
   "id": "0cb4a635-e23c-4467-b4bc-131223fd6a34",
   "metadata": {},
   "outputs": [
    {
     "name": "stdin",
     "output_type": "stream",
     "text": [
      "Enter a number to calculate its factorial:  6\n"
     ]
    },
    {
     "name": "stdout",
     "output_type": "stream",
     "text": [
      "The factorial of 6 is: 720\n"
     ]
    }
   ],
   "source": [
    "\n",
    "num = int(input(\"Enter a number to calculate its factorial: \"))\n",
    "\n",
    "\n",
    "factorial = 1\n",
    "i = num\n",
    "\n",
    "\n",
    "while i > 0:\n",
    "    factorial *= i  \n",
    "    i -= 1         \n",
    "\n",
    "\n",
    "print(f\"The factorial of {num} is: {factorial}\")\n"
   ]
  },
  {
   "cell_type": "code",
   "execution_count": null,
   "id": "7acdd07c-c0fc-411d-90f0-979504e338bb",
   "metadata": {},
   "outputs": [],
   "source": []
  }
 ],
 "metadata": {
  "kernelspec": {
   "display_name": "Python 3 (ipykernel)",
   "language": "python",
   "name": "python3"
  },
  "language_info": {
   "codemirror_mode": {
    "name": "ipython",
    "version": 3
   },
   "file_extension": ".py",
   "mimetype": "text/x-python",
   "name": "python",
   "nbconvert_exporter": "python",
   "pygments_lexer": "ipython3",
   "version": "3.12.4"
  }
 },
 "nbformat": 4,
 "nbformat_minor": 5
}
