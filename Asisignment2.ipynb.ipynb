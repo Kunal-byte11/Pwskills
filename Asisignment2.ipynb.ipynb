{
 "cells": [
  {
   "cell_type": "markdown",
   "id": "30067341-35e0-4062-a98a-a32c24403ec1",
   "metadata": {},
   "source": [
    "# "
   ]
  },
  {
   "cell_type": "markdown",
   "id": "263f0c96-3ace-4635-a7f7-3ed243577207",
   "metadata": {},
   "source": [
    "1. What are data structures, and why are they important?"
   ]
  },
  {
   "cell_type": "markdown",
   "id": "754e17e6-d4c9-484d-9f0c-a340673095dd",
   "metadata": {},
   "source": [
    "ans:-Data structures are organized ways to store and manage data efficiently. They are important because they enable optimal data retrieval, storage, and manipulation for different tasks.\n",
    "Example: List, tuples, set, string and dictionary ."
   ]
  },
  {
   "cell_type": "markdown",
   "id": "2d3992c1-4574-4fef-967a-02fa4fc553c7",
   "metadata": {},
   "source": [
    "2.Difference between mutable and immutable data types with examples?"
   ]
  },
  {
   "cell_type": "markdown",
   "id": "0423ab73-9817-4837-83fa-7ba03a2c293e",
   "metadata": {},
   "source": [
    "Ans:-Mutable: Can be changed after creation\n",
    "Example: list → my_list = [1, 2, 3]; my_list[0] = 10\n",
    "\n",
    "\n",
    "\n",
    "Immutable: Cannot be changed after creation.\n",
    "Example: tuple → my_tuple = (1, 2, 3) (values can't be altered)."
   ]
  },
  {
   "cell_type": "markdown",
   "id": "a72a5a00-0609-47da-aaec-2c0de7390e57",
   "metadata": {},
   "source": [
    "3. Main differences between lists and tuples in Python?"
   ]
  },
  {
   "cell_type": "markdown",
   "id": "5c26c354-383e-4137-b44a-01b6576863e2",
   "metadata": {},
   "source": [
    " Ans:-Lists: Mutable, slower, use square brackets ([]).\n",
    "\n",
    " Tuples: Immutable, faster, use parentheses (()).\n",
    "\n",
    " Example: list = [1, 2, 3], tuple = (1, 2, 3)."
   ]
  },
  {
   "cell_type": "markdown",
   "id": "91c6a9e8-0034-49e1-aeb1-3dc37562759b",
   "metadata": {},
   "source": [
    "4.How dictionaries store data?"
   ]
  },
  {
   "cell_type": "markdown",
   "id": "2cd320a7-f538-46f6-a1b8-3539ccf0000b",
   "metadata": {},
   "source": [
    "Dictionaries store data as key-value pairs in a hash table, allowing fast lookups by hashing the keys."
   ]
  },
  {
   "cell_type": "markdown",
   "id": "3e674729-828e-4ac6-a123-50b21c7550ea",
   "metadata": {},
   "source": [
    "5.Why use a set instead of a list in Python?"
   ]
  },
  {
   "cell_type": "markdown",
   "id": "dc400952-add5-4d4d-8ad2-3a6eff682fee",
   "metadata": {},
   "source": [
    "Sets are faster for checking membership and automatically remove duplicates.\n",
    "\n",
    "Example: set([1, 2, 2, 3]) results in {1, 2, 3}."
   ]
  },
  {
   "cell_type": "markdown",
   "id": "7b3d54a8-cde8-4ea0-8f26-edf3725d944b",
   "metadata": {},
   "source": [
    "What is a string in Python, and how is it different from a list?"
   ]
  },
  {
   "cell_type": "markdown",
   "id": "3a82b7d4-286c-49ee-9b9c-f6f805d7b47f",
   "metadata": {},
   "source": [
    "A string is an immutable sequence of characters, while a list is a mutable sequence of elements.\n",
    "    \n",
    "Example: string = \"abc\", list = ['a', 'b', 'c']."
   ]
  },
  {
   "cell_type": "markdown",
   "id": "4c8a6fb7-4f8d-4eb1-926b-8a82d88949a1",
   "metadata": {},
   "source": [
    "7.How do tuples ensure data integrity in Python?"
   ]
  },
  {
   "cell_type": "markdown",
   "id": "027cbe7f-22f9-4d6b-9594-6f0424e84523",
   "metadata": {},
   "source": [
    "Ans:-tuples are immutable, preventing accidental modification, which ensures data stability.\n",
    "\n",
    "Example: Used for fixed configurations like (latitude, longitude)"
   ]
  },
  {
   "cell_type": "markdown",
   "id": "03917bd7-acfe-4b3b-a883-a9b4d286c62a",
   "metadata": {},
   "source": [
    "8. What is a hash table, and how does it relate to dictionaries in Python?"
   ]
  },
  {
   "cell_type": "markdown",
   "id": "b698d63c-e370-415f-a5dd-0c88b69dacce",
   "metadata": {},
   "source": [
    "Ans:-A hash table is a data structure that maps keys to values via hash functions. Dictionaries in Python are implemented using hash tables.\n"
   ]
  },
  {
   "cell_type": "markdown",
   "id": "30c45a1a-036b-4aa2-b489-792b246fc1ff",
   "metadata": {},
   "source": [
    "9.Can lists contain different data types in Python?"
   ]
  },
  {
   "cell_type": "markdown",
   "id": "7f7d1c72-b566-4634-920a-a8f3e48c707c",
   "metadata": {},
   "source": [
    "Ans:-Yes, lists can hold elements of different types.\n",
    "\n",
    "Example: [1, \"hello\", 3.14].\n",
    "\n"
   ]
  },
  {
   "cell_type": "markdown",
   "id": "4c11b672-c640-4cfc-a8c5-4cf970dc56db",
   "metadata": {},
   "source": [
    "10. Why are strings immutable in Python?"
   ]
  },
  {
   "cell_type": "markdown",
   "id": "baeb5b15-f64a-41cc-a123-6bf2e29e1ff1",
   "metadata": {},
   "source": [
    "To optimize memory usage and performance, as they are widely used. This also allows safe sharing across threads."
   ]
  },
  {
   "cell_type": "markdown",
   "id": "7789cfdf-8565-4c45-854e-728e8820780c",
   "metadata": {},
   "source": [
    "11. Advantages of dictionaries over lists for certain tasks?"
   ]
  },
  {
   "cell_type": "markdown",
   "id": "c1702b9c-9bb7-480a-badd-b5b686896e31",
   "metadata": {},
   "source": [
    "Ans:-Dictionaries provide fast lookups for key-value pairs, while lists require linear search for equivalent tasks."
   ]
  },
  {
   "cell_type": "markdown",
   "id": "32fa7c1d-be11-467e-a7da-fd16d9165c39",
   "metadata": {},
   "source": [
    "12. How do sets handle duplicate values in Python?"
   ]
  },
  {
   "cell_type": "markdown",
   "id": "14a12ea4-9164-4f71-8220-885c51f17fb5",
   "metadata": {},
   "source": [
    "Sets automatically remove duplicates when created or updated.\n",
    "\n",
    "Example: set([1, 2, 2, 3]) results in {1, 2, 3}."
   ]
  },
  {
   "cell_type": "markdown",
   "id": "29588c25-baf2-4274-ad9f-20951a8cc438",
   "metadata": {},
   "source": [
    "13. Scenario where using a tuple is preferable over a list."
   ]
  },
  {
   "cell_type": "markdown",
   "id": "206ba608-6e23-4811-bf33-326a3800ba13",
   "metadata": {},
   "source": [
    "When the data should not be modified, such as coordinates (x, y) or a database record."
   ]
  },
  {
   "cell_type": "markdown",
   "id": "abc49c35-4e83-4024-afc9-86c99f230141",
   "metadata": {},
   "source": [
    "14. How does the “in” keyword work differently for lists and dictionaries?"
   ]
  },
  {
   "cell_type": "markdown",
   "id": "dac287dc-7c8a-4be2-987d-b9be81efa2fd",
   "metadata": {},
   "source": [
    "Lists: Checks for value presence.\n",
    "    \n",
    "Example: 1 in [1, 2, 3] → True.\n",
    "    \n",
    "Dictionaries: Checks for key presence.\n",
    "\n",
    "Example: 'a' in {'a': 1, 'b': 2} → True."
   ]
  },
  {
   "cell_type": "markdown",
   "id": "bd91363d-6709-47ef-a30f-1a3b16b06356",
   "metadata": {},
   "source": [
    "15. Can you modify the elements of a tuple? Explain why or why not?"
   ]
  },
  {
   "cell_type": "markdown",
   "id": "d05843fd-9ec5-4dc6-85ad-e0f9aebfbc86",
   "metadata": {},
   "source": [
    "Ans:-No, tuples are immutable. Once created, their elements cannot be changed."
   ]
  },
  {
   "cell_type": "markdown",
   "id": "55d51a8e-b55e-4451-bf24-054d6fea06c8",
   "metadata": {},
   "source": [
    "16. What is a nested dictionary, and an example use case?"
   ]
  },
  {
   "cell_type": "markdown",
   "id": "2ff043a0-e09a-43ba-8481-42e6341f7ee9",
   "metadata": {},
   "source": [
    "A dictionary containing other dictionaries.\n",
    "\n",
    "Example: students = {\"Alice\": {\"age\": 25, \"grade\": \"A\"}} (organizing hierarchical data)."
   ]
  },
  {
   "cell_type": "markdown",
   "id": "164bbd42-1a6f-4f59-9816-773248defb5b",
   "metadata": {},
   "source": [
    "17. Time complexity of accessing elements in a dictionary?"
   ]
  },
  {
   "cell_type": "markdown",
   "id": "bf9f82ae-6942-4bdc-9dd6-34fc8df8c3d3",
   "metadata": {},
   "source": [
    "Accessing elements has an average time complexity of O(1) due to hash table implementation"
   ]
  },
  {
   "cell_type": "markdown",
   "id": "5b2830c0-867d-4c3b-a0de-490f1b76c77a",
   "metadata": {},
   "source": [
    "18. Situations where lists are preferred over dictionaries"
   ]
  },
  {
   "cell_type": "markdown",
   "id": "b6658403-da19-46a0-9bcf-50ec2fa85aad",
   "metadata": {},
   "source": [
    "When the data is ordered or sequential, and no key-value relationships are required."
   ]
  },
  {
   "cell_type": "markdown",
   "id": "cb3ed1ce-14fd-4faa-93e3-32db641d3842",
   "metadata": {},
   "source": [
    "19. Why are dictionaries considered unordered, and how does that affect retrieval?"
   ]
  },
  {
   "cell_type": "markdown",
   "id": "e2c56249-c018-4a05-b72a-d820c5e982be",
   "metadata": {},
   "source": [
    "Dictionaries don't maintain insertion order (before Python 3.7). Keys must be used for retrieval, not position."
   ]
  },
  {
   "cell_type": "markdown",
   "id": "e1580b73-3271-46bf-a87b-8aaa257cf5ad",
   "metadata": {},
   "source": [
    "20. Difference between a list and a dictionary in terms of data retrieval."
   ]
  },
  {
   "cell_type": "markdown",
   "id": "58071593-dc27-4321-ac19-6b5613a225d7",
   "metadata": {},
   "source": [
    "Lists: Retrieve by index.\n",
    "    \n",
    "Example: my_list[0].\n",
    "\n",
    "Dictionaries: Retrieve by key.\n",
    "\n",
    "Example: my_dict[\"key\"]."
   ]
  },
  {
   "cell_type": "markdown",
   "id": "78505f9f-d03b-4b5e-aa6a-514a8dd6bc92",
   "metadata": {},
   "source": [
    "//////////////////////////////////////////////////////CODE////////////////////////////////////////////////////////"
   ]
  },
  {
   "cell_type": "markdown",
   "id": "be910fa9-3e69-45be-a1f6-46a4fa7b03cf",
   "metadata": {},
   "source": [
    "1.Write a code to create a string with your name and print it?"
   ]
  },
  {
   "cell_type": "code",
   "execution_count": 7,
   "id": "bdee3ac0-18ad-4af9-bbfe-db25f05669f8",
   "metadata": {},
   "outputs": [
    {
     "name": "stdout",
     "output_type": "stream",
     "text": [
      "Kunal\n"
     ]
    }
   ],
   "source": [
    "Name=\"Kunal\"\n",
    "print(Name)"
   ]
  },
  {
   "cell_type": "markdown",
   "id": "2e3364ef-0dee-4620-946c-0fc64552f552",
   "metadata": {},
   "source": [
    " 2.Write a code to find the length of the string \"Hello World\"?"
   ]
  },
  {
   "cell_type": "code",
   "execution_count": 8,
   "id": "869cc0b7-8922-4e1e-908a-27219ff20ecf",
   "metadata": {},
   "outputs": [
    {
     "name": "stdout",
     "output_type": "stream",
     "text": [
      "11\n"
     ]
    }
   ],
   "source": [
    "s = \"Hello World\"\n",
    "length=len(s)\n",
    "print(length)"
   ]
  },
  {
   "cell_type": "markdown",
   "id": "de54c1d0-79b4-4186-a18d-ff231bfddca7",
   "metadata": {},
   "source": [
    "3. Write a code to slice the first 3 characters from the string \"Python Programming\"?"
   ]
  },
  {
   "cell_type": "code",
   "execution_count": 9,
   "id": "c26ec58b-836f-4781-9b73-ffa1e0d2bfc4",
   "metadata": {},
   "outputs": [
    {
     "name": "stdout",
     "output_type": "stream",
     "text": [
      "Pyt\n"
     ]
    }
   ],
   "source": [
    "word=\"Python Programming\"\n",
    "three_char=word[:3]\n",
    "print(three_char)"
   ]
  },
  {
   "cell_type": "markdown",
   "id": "e534c577-de5b-478d-b873-4268e319a93f",
   "metadata": {},
   "source": [
    "4.Write a code to convert the string \"hello\" to uppercase?"
   ]
  },
  {
   "cell_type": "code",
   "execution_count": 10,
   "id": "7f928d47-0c79-4c59-801d-b515eeff0548",
   "metadata": {},
   "outputs": [
    {
     "data": {
      "text/plain": [
       "'HELLO'"
      ]
     },
     "execution_count": 10,
     "metadata": {},
     "output_type": "execute_result"
    }
   ],
   "source": [
    "text=\"hello\"\n",
    "text.upper()"
   ]
  },
  {
   "cell_type": "markdown",
   "id": "068e10a4-40d4-40dd-9ac9-1fdb1ae3baf4",
   "metadata": {},
   "source": [
    "5.Write a code to replace the word \"apple\" with \"orange\" in the string \"I like apple\"?"
   ]
  },
  {
   "cell_type": "code",
   "execution_count": 11,
   "id": "0768db2c-faeb-4aea-bda3-91f92ee16869",
   "metadata": {},
   "outputs": [
    {
     "data": {
      "text/plain": [
       "'I like orange'"
      ]
     },
     "execution_count": 11,
     "metadata": {},
     "output_type": "execute_result"
    }
   ],
   "source": [
    "text=\"I like apple\"\n",
    "text.replace(\"apple\",\"orange\")"
   ]
  },
  {
   "cell_type": "markdown",
   "id": "7e53c0d6-0b8c-493c-a449-1314594814be",
   "metadata": {},
   "source": [
    "6. Write a code to create a list with numbers 1 to 5 and print it?"
   ]
  },
  {
   "cell_type": "code",
   "execution_count": 12,
   "id": "686607b0-c27b-46f5-8c11-a590d81b9380",
   "metadata": {},
   "outputs": [
    {
     "name": "stdout",
     "output_type": "stream",
     "text": [
      "[1, 2, 3, 4, 5]\n"
     ]
    }
   ],
   "source": [
    "num=[1, 2, 3, 4, 5]\n",
    "print(num)"
   ]
  },
  {
   "cell_type": "markdown",
   "id": "94a17abd-13bd-4b80-83d4-880065adf3d3",
   "metadata": {},
   "source": [
    "7.Write a code to append the number 10 to the list [1, 2, 3, 4]?"
   ]
  },
  {
   "cell_type": "code",
   "execution_count": 15,
   "id": "e7e2ee50-d4ef-452c-b740-c36f97148d21",
   "metadata": {},
   "outputs": [
    {
     "name": "stdout",
     "output_type": "stream",
     "text": [
      "[1, 2, 3, 4, 10]\n"
     ]
    }
   ],
   "source": [
    "num=[1,2,3,4]\n",
    "num.append(10)\n",
    "print(num)"
   ]
  },
  {
   "cell_type": "markdown",
   "id": "2fdac70a-3c29-4000-a378-262a51376a5d",
   "metadata": {},
   "source": [
    "8.Write a code to remove the number 3 from the list [1, 2, 3, 4, 5]?"
   ]
  },
  {
   "cell_type": "code",
   "execution_count": 16,
   "id": "5800287e-a023-432a-8f4a-710c5e9e6a09",
   "metadata": {},
   "outputs": [
    {
     "name": "stdout",
     "output_type": "stream",
     "text": [
      "[1, 2, 4, 5]\n"
     ]
    }
   ],
   "source": [
    "num=[1, 2, 3, 4, 5,]\n",
    "num.remove(3)\n",
    "print(num)"
   ]
  },
  {
   "cell_type": "markdown",
   "id": "cad7dee4-75ea-4ca5-b3ed-c92b69143c52",
   "metadata": {},
   "source": [
    "9.Write a code to access the second element in the list ['a', 'b', 'c', 'd']?"
   ]
  },
  {
   "cell_type": "code",
   "execution_count": 18,
   "id": "6fec1e1b-53a2-4ee0-912e-ef05a2f8a9b6",
   "metadata": {},
   "outputs": [
    {
     "data": {
      "text/plain": [
       "'b'"
      ]
     },
     "execution_count": 18,
     "metadata": {},
     "output_type": "execute_result"
    }
   ],
   "source": [
    "num=['a','b','c','d']\n",
    "num[1]"
   ]
  },
  {
   "cell_type": "markdown",
   "id": "c687da10-a5ef-4933-9cb4-b70e8bceb702",
   "metadata": {},
   "source": [
    "10. Write a code to reverse the list [10, 20, 30, 40, 50].?"
   ]
  },
  {
   "cell_type": "code",
   "execution_count": 20,
   "id": "d30321c2-fef1-444f-b7ed-fa27f8b88207",
   "metadata": {},
   "outputs": [
    {
     "name": "stdout",
     "output_type": "stream",
     "text": [
      "[50, 40, 30, 20, 10]\n"
     ]
    }
   ],
   "source": [
    "lis = [10, 20, 30, 40, 50 ]\n",
    "lis.reverse()\n",
    "print(lis)"
   ]
  },
  {
   "cell_type": "markdown",
   "id": "e3f1e132-e37f-4e18-beb9-9fa59532d8d0",
   "metadata": {},
   "source": [
    "11.Write a code to create a tuple with the elements 10, 20, 30 and print it?"
   ]
  },
  {
   "cell_type": "code",
   "execution_count": 24,
   "id": "639bf626-e8ce-4f5f-98e3-fa1add6d8314",
   "metadata": {},
   "outputs": [
    {
     "name": "stdout",
     "output_type": "stream",
     "text": [
      "(10, 20, 30)\n"
     ]
    }
   ],
   "source": [
    "num=(10,20,30)\n",
    "print(num)"
   ]
  },
  {
   "cell_type": "markdown",
   "id": "d1b78543-1411-4094-9ee9-a9c2550a9285",
   "metadata": {},
   "source": [
    "12.Write a code to access the first element of the tuple ('apple', 'banana', 'cherry').?"
   ]
  },
  {
   "cell_type": "code",
   "execution_count": 25,
   "id": "a8f3df81-f521-475a-8d9a-0d37f8ecf8f2",
   "metadata": {},
   "outputs": [
    {
     "data": {
      "text/plain": [
       "'apple'"
      ]
     },
     "execution_count": 25,
     "metadata": {},
     "output_type": "execute_result"
    }
   ],
   "source": [
    "fruits=(\"apple\",\"banna\",\"cherry\")\n",
    "fruits[0]"
   ]
  },
  {
   "cell_type": "markdown",
   "id": "d0418d45-0629-4359-a331-d7700c77824c",
   "metadata": {},
   "source": [
    "13. Write a code to count how many times the number 2 appears in the tuple (1, 2, 3, 2, 4, 2)?"
   ]
  },
  {
   "cell_type": "code",
   "execution_count": 28,
   "id": "64c222da-b9fe-4b95-8507-7e4db5df367b",
   "metadata": {},
   "outputs": [
    {
     "data": {
      "text/plain": [
       "3"
      ]
     },
     "execution_count": 28,
     "metadata": {},
     "output_type": "execute_result"
    }
   ],
   "source": [
    "num=(1, 2, 3, 2, 4, 2)\n",
    "num.count(2)"
   ]
  },
  {
   "cell_type": "markdown",
   "id": "e3024eeb-fb89-48bc-a8b2-a1491ca7b60a",
   "metadata": {},
   "source": [
    "14. Write a code to find the index of the element \"cat\" in the tuple ('dog', 'cat', 'rabbit')?"
   ]
  },
  {
   "cell_type": "code",
   "execution_count": 29,
   "id": "e484289e-d020-4745-85ec-0bff661fe17c",
   "metadata": {},
   "outputs": [
    {
     "data": {
      "text/plain": [
       "1"
      ]
     },
     "execution_count": 29,
     "metadata": {},
     "output_type": "execute_result"
    }
   ],
   "source": [
    "Animal=('dog','cat','rabbit')\n",
    "Animal.index('cat')"
   ]
  },
  {
   "cell_type": "markdown",
   "id": "3cce1dda-2746-4ac9-bead-fbaadd207f56",
   "metadata": {},
   "source": [
    "15. Write a code to check if the element \"banana\" is in the tuple ('apple', 'orange', 'banana')?"
   ]
  },
  {
   "cell_type": "code",
   "execution_count": 32,
   "id": "8d02e159-a1c0-4fa2-b331-b86b56606251",
   "metadata": {},
   "outputs": [
    {
     "data": {
      "text/plain": [
       "True"
      ]
     },
     "execution_count": 32,
     "metadata": {},
     "output_type": "execute_result"
    }
   ],
   "source": [
    "fruit=('apple','orange','banana')\n",
    "'banana'in fruit"
   ]
  },
  {
   "cell_type": "markdown",
   "id": "6ecd62b8-eb4b-4cea-9403-6efc04ecc1fc",
   "metadata": {},
   "source": [
    "16. Write a code to create a set with the elements 1, 2, 3, 4, 5 and print it?"
   ]
  },
  {
   "cell_type": "code",
   "execution_count": 34,
   "id": "adb85eeb-5047-4715-95a0-f7d81210bd37",
   "metadata": {},
   "outputs": [
    {
     "name": "stdout",
     "output_type": "stream",
     "text": [
      "{1, 2, 3, 4, 5}\n"
     ]
    }
   ],
   "source": [
    "num={1, 2, 3, 4, 5, 2}\n",
    "print(num)"
   ]
  },
  {
   "cell_type": "markdown",
   "id": "5161a89d-2a76-43c8-b79d-614a4f7a2d36",
   "metadata": {},
   "source": [
    " 17.Write a code to add the element 6 to the set {1, 2, 3, 4}?"
   ]
  },
  {
   "cell_type": "code",
   "execution_count": 36,
   "id": "51e60a7c-b2d0-4fe1-8218-8c1c941b8b7c",
   "metadata": {},
   "outputs": [
    {
     "name": "stdout",
     "output_type": "stream",
     "text": [
      "{1, 2, 3, 4, 6}\n"
     ]
    }
   ],
   "source": [
    "num={1, 2, 3, 4,}\n",
    "num.add(6)\n",
    "print(num)"
   ]
  },
  {
   "cell_type": "markdown",
   "id": "89acb2a8-4497-45e5-8053-e4f3aa0a96b1",
   "metadata": {},
   "source": [
    "18.Write a code to create a tuple with the elements 10, 20, 30 and print it?\n"
   ]
  },
  {
   "cell_type": "code",
   "execution_count": 38,
   "id": "4a892f17-25b4-400b-92ee-2b2b7901f550",
   "metadata": {},
   "outputs": [
    {
     "name": "stdout",
     "output_type": "stream",
     "text": [
      "(10, 20, 30)\n"
     ]
    }
   ],
   "source": [
    "num=(10,20,30)\n",
    "print(num)"
   ]
  },
  {
   "cell_type": "markdown",
   "id": "1a79e697-0fde-4324-9491-15b8ceed1838",
   "metadata": {},
   "source": [
    "19. Write a code to access the first element of the tuple ('apple', 'banana', 'cherry')?"
   ]
  },
  {
   "cell_type": "code",
   "execution_count": 40,
   "id": "ccde71a3-4318-4e3e-af5f-095276e9e9b8",
   "metadata": {},
   "outputs": [
    {
     "data": {
      "text/plain": [
       "'apple'"
      ]
     },
     "execution_count": 40,
     "metadata": {},
     "output_type": "execute_result"
    }
   ],
   "source": [
    "fruit=('apple','banana','cherry')\n",
    "fruit[0]"
   ]
  },
  {
   "cell_type": "markdown",
   "id": "2eacd691-372c-469c-badb-12ac9515ad5b",
   "metadata": {},
   "source": [
    "20. Write a code to count how many times the number 2 appears in the tuple (1, 2, 3, 2, 4, 2)"
   ]
  },
  {
   "cell_type": "code",
   "execution_count": 41,
   "id": "f6da42eb-94d5-4a73-b3cf-978f47eeb776",
   "metadata": {},
   "outputs": [
    {
     "data": {
      "text/plain": [
       "3"
      ]
     },
     "execution_count": 41,
     "metadata": {},
     "output_type": "execute_result"
    }
   ],
   "source": [
    "num=(1, 2, 3, 2, 4, 2)\n",
    "num.count(2)"
   ]
  },
  {
   "cell_type": "markdown",
   "id": "63b3bb78-3568-485d-a103-b0a83038946c",
   "metadata": {},
   "source": [
    "21.Write a code to find the index of the element \"cat\" in the tuple ('dog', 'cat', 'rabbit')?"
   ]
  },
  {
   "cell_type": "code",
   "execution_count": 42,
   "id": "6656a19b-b8fc-4e55-9de9-5a73ae79060a",
   "metadata": {},
   "outputs": [
    {
     "data": {
      "text/plain": [
       "1"
      ]
     },
     "execution_count": 42,
     "metadata": {},
     "output_type": "execute_result"
    }
   ],
   "source": [
    "Animal=('dog','cat','rabbit')\n",
    "Animal.index('cat')"
   ]
  },
  {
   "cell_type": "markdown",
   "id": "7f9149a5-934e-498a-9383-40c42c062765",
   "metadata": {},
   "source": [
    "22.. Write a code to check if the element \"banana\" is in the tuple ('apple', 'orange', 'banana')?"
   ]
  },
  {
   "cell_type": "code",
   "execution_count": 43,
   "id": "c168a6f9-ba79-4a3e-ab5c-de537d8ba1af",
   "metadata": {},
   "outputs": [
    {
     "data": {
      "text/plain": [
       "True"
      ]
     },
     "execution_count": 43,
     "metadata": {},
     "output_type": "execute_result"
    }
   ],
   "source": [
    "fruit=('apple','orange','banana')\n",
    "'banana'in fruit"
   ]
  },
  {
   "cell_type": "markdown",
   "id": "cb165a5c-55a0-489f-8068-a9ee415a31ab",
   "metadata": {},
   "source": [
    "23. Write a code to create a set with the elements 1, 2, 3, 4, 5 and print it?"
   ]
  },
  {
   "cell_type": "code",
   "execution_count": 44,
   "id": "a779d399-ecfe-4671-8935-37910a4fe281",
   "metadata": {},
   "outputs": [
    {
     "name": "stdout",
     "output_type": "stream",
     "text": [
      "{1, 2, 3, 4, 5}\n"
     ]
    }
   ],
   "source": [
    "num={1, 2, 3, 4, 5, }\n",
    "print(num)"
   ]
  },
  {
   "cell_type": "markdown",
   "id": "cbec3e33-866e-489b-baa4-f6d240be1b27",
   "metadata": {},
   "source": [
    "24. Write a code to add the element 6 to the set {1, 2, 3, 4}?"
   ]
  },
  {
   "cell_type": "code",
   "execution_count": 45,
   "id": "c87d169d-45a5-4d81-8d61-de98132536b2",
   "metadata": {},
   "outputs": [
    {
     "name": "stdout",
     "output_type": "stream",
     "text": [
      "{1, 2, 3, 4, 6}\n"
     ]
    }
   ],
   "source": [
    "num={1, 2, 3, 4}\n",
    "num.add(6)\n",
    "print(num)"
   ]
  },
  {
   "cell_type": "code",
   "execution_count": null,
   "id": "91974ab8-e510-4b72-ad6e-b50bf39e750d",
   "metadata": {},
   "outputs": [],
   "source": []
  }
 ],
 "metadata": {
  "kernelspec": {
   "display_name": "Python 3 (ipykernel)",
   "language": "python",
   "name": "python3"
  },
  "language_info": {
   "codemirror_mode": {
    "name": "ipython",
    "version": 3
   },
   "file_extension": ".py",
   "mimetype": "text/x-python",
   "name": "python",
   "nbconvert_exporter": "python",
   "pygments_lexer": "ipython3",
   "version": "3.12.4"
  }
 },
 "nbformat": 4,
 "nbformat_minor": 5
}
