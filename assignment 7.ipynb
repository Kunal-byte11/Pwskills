{
 "cells": [
  {
   "cell_type": "markdown",
   "id": "5cc7e14f",
   "metadata": {},
   "source": [
    "# Theory"
   ]
  },
  {
   "cell_type": "markdown",
   "id": "570cb7e5",
   "metadata": {},
   "source": [
    "### 1. What is NumPy, and why is it widely used in Python"
   ]
  },
  {
   "cell_type": "markdown",
   "id": "812b8934",
   "metadata": {},
   "source": [
    "### Ans :- NumPy is a popular library for fast,efficient numerical computing using arrays and matrices.It's widely used because it's fast , memory-efficient , has rich math functions , and supports large data operations essential for data science for Data Science "
   ]
  },
  {
   "cell_type": "markdown",
   "id": "adbf1717",
   "metadata": {},
   "source": [
    "### 2 .How does broadcasting work in NumPy? \n",
    "### Broadcasting describes how NumPy handles arrays with different shapes during arithmetic operations; it automatically \"stretches\" smaller arrays to match the shape of larger ones without creating copies of the data"
   ]
  },
  {
   "cell_type": "markdown",
   "id": "0f74bb7c",
   "metadata": {},
   "source": [
    "### 3. What is a Pandas DataFrame? \n",
    "### A Pandas DataFrame is a 2-dimensional labeled data structure with columns of potentially different types, similar to a spreadsheet or SQL table, designed for efficient data manipulation and analysis"
   ]
  },
  {
   "cell_type": "markdown",
   "id": "ea55912d",
   "metadata": {},
   "source": [
    "### 4.Explain the use of the groupby() method in Pandas.\n",
    "### The groupby() method in Pandas is used for grouping rows of a DataFrame based on one or more column values, allowing for aggregation (e.g., sum, mean, count) on these groups.\n",
    "\n"
   ]
  },
  {
   "cell_type": "markdown",
   "id": "34d5b796",
   "metadata": {},
   "source": [
    "### 5 .Why is Seaborn preferred for statistical visualizations?\n",
    "### Seaborn is preferred for statistical visualizations because it provides a high-level interface for drawing attractive and informative statistical graphics, integrating well with Pandas DataFrames and offering various specialized plot types for statistical analysis."
   ]
  },
  {
   "cell_type": "markdown",
   "id": "9f7a5d05",
   "metadata": {},
   "source": [
    "### 6.What are the differences between NumPy arrays and Python lists?\n",
    "### NumPy arrays are homogeneous (all elements of the same type), fixed in size, and support vectorized operations, making them more memory-efficient and faster for numerical computations compared to Python lists, which are heterogeneous, dynamic, and less efficient for numerical tasks"
   ]
  },
  {
   "cell_type": "markdown",
   "id": "bd2bd0cf",
   "metadata": {},
   "source": [
    "### 7 . What is a heatmap, and when should it be used?\n",
    "### A heatmap is a graphical representation of data where the individual values contained in a matrix are represented as colors. It should be used to visualize correlation matrices, show data density, or display patterns in large datasets"
   ]
  },
  {
   "cell_type": "markdown",
   "id": "bd090021",
   "metadata": {},
   "source": [
    " ### 8.What does the term \"vectorized operation\" mean in NumPy?\n",
    " ### \"Vectorized operation\" in NumPy refers to performing operations on entire arrays at once, rather than element by element using Python loops. This leverages optimized C implementations under the hood, leading to significantly faster execution"
   ]
  },
  {
   "cell_type": "markdown",
   "id": "c1cea37c",
   "metadata": {},
   "source": [
    "###  9. How does Matplotlib differ from Plotly?\n",
    "### Matplotlib is a foundational plotting library for creating static, interactive, and animated visualizations in Python, offering extensive control over plot elements. Plotly, on the other hand, is known for creating interactive, web-based visualizations that can be viewed in web browsers and shared easily."
   ]
  },
  {
   "cell_type": "markdown",
   "id": "9ae0a729",
   "metadata": {},
   "source": [
    "### 10.What is the significance of hierarchical indexing in Pandas?\n",
    "### Hierarchical indexing (MultiIndex) in Pandas allows for handling data with multiple index levels on an axis, enabling more complex data organization and sophisticated data selection/reshaping operations on higher-dimensional data in a 2D structure"
   ]
  },
  {
   "cell_type": "markdown",
   "id": "7318c68b",
   "metadata": {},
   "source": [
    "### 11. What is the role of Seaborn's pairplot() function?\n",
    "### seaborns pairplot() function creates a grid of scatterplots for each pair of variables in a DataFrame, and histograms or kernel density estimates for the diagonal elements, serving as an excellent tool for exploratory data analysis to visualize relationships and distributions"
   ]
  },
  {
   "cell_type": "markdown",
   "id": "de8887e8",
   "metadata": {},
   "source": [
    "### 12. What is the purpose of the describe() function in Pandas?\n",
    "### The describe() function in Pandas generates descriptive statistics of DataFrame columns, including count, mean, standard deviation, min, max, and quartile values, providing a quick summary of the data distribution"
   ]
  },
  {
   "cell_type": "markdown",
   "id": "b307492c",
   "metadata": {},
   "source": [
    "### 13.Why is handling missing data important in Pandas?\n",
    "### Handling missing data in Pandas is crucial because missing values can lead to inaccurate analyses, biased models, or errors in calculations. Appropriate strategies like imputation or removal ensure data integrity and reliable results.\n",
    "\n"
   ]
  },
  {
   "cell_type": "markdown",
   "id": "01e4e64f",
   "metadata": {},
   "source": [
    "### 14.What are the benefits of using Plotly for data visualization?\n",
    "### Benefits of using Plotly for data visualization include its ability to create interactive and web-based plots, support for a wide range of chart types (including 3D), and ease of integration into web applications and dashboards."
   ]
  },
  {
   "cell_type": "markdown",
   "id": "e1069070",
   "metadata": {},
   "source": [
    "### 15. How does NumPy handle multidimensional arrays?\n",
    "### NumPy handles multidimensional arrays by providing the ndarray object, which is a grid of values, all of the same type, indexed by a tuple of non-negative integers. It allows for efficient operations on these arrays, crucial for scientific computing"
   ]
  },
  {
   "cell_type": "markdown",
   "id": "438e25b0",
   "metadata": {},
   "source": [
    "### 16.What is the role of Bokeh in data visualization?\n",
    "### Bokeh is a Python library that enables the creation of interactive, web-based visualizations. Its role is to provide powerful, flexible graphics that can be deployed as interactive web applications or dashboards, focusing on streaming datasets and larger data"
   ]
  },
  {
   "cell_type": "markdown",
   "id": "115d4971",
   "metadata": {},
   "source": [
    "### 17 . Explain the difference between apply() and map() in Pandas.\n",
    "### apply() can operate on either a Series or DataFrame (row/column-wise or element-wise), applying a function along an axis. \n",
    "\n",
    "### map() is a Series-only method used for element-wise transformation of values based on a dictionary or another Series."
   ]
  },
  {
   "cell_type": "markdown",
   "id": "eb439c06",
   "metadata": {},
   "source": [
    "### 18 . What are some advanced features of NumPy?\n",
    "### Advanced features of NumPy include sophisticated array manipulation (reshaping, stacking, splitting), linear algebra routines, Fourier transforms, random number generation, and integration with C/C++ and Fortran code"
   ]
  },
  {
   "cell_type": "markdown",
   "id": "7ae1a9de",
   "metadata": {},
   "source": [
    "### 19.How does Pandas simplify time series analysis?\n",
    "### Pandas simplifies time series analysis by providing specialized data structures (like DateTimeIndex) and functions for handling dates and times, performing resamplng, shifting, lagging, and calculating rolling statistics, making time-based data manipulation straightforward."
   ]
  },
  {
   "cell_type": "markdown",
   "id": "cf61c40e",
   "metadata": {},
   "source": [
    "### 20. What is the role of a pivot table in Pandas?\n",
    "### The role of a pivot table in Pandas is to summarize and rearrange data from a DataFrame. It transforms columns into rows and columns, allowing for easy aggregation of data based on unique values in specified columns."
   ]
  },
  {
   "cell_type": "markdown",
   "id": "818486fd",
   "metadata": {},
   "source": [
    "### 21.Why is NumPy's array slicing faster than Python's list slicing?\n",
    "### NumPy's array slicing is faster than Python's list slicing because NumPy arrays are stored contiguously in memory and operations are performed by optimized C code, avoiding the overhead of Python loops and individual object lookups that occur with lists"
   ]
  },
  {
   "cell_type": "markdown",
   "id": "4b45889a",
   "metadata": {},
   "source": [
    "### 22. What are some common use cases for Seaborn?\n",
    "### Common use cases for Seaborn include visualizing distributions (histograms, KDE plots), exploring relationships between variables (scatter plots, pair plots), showing statistical relationships (regression plots), and visualizing categorical data"
   ]
  },
  {
   "cell_type": "markdown",
   "id": "0615b114",
   "metadata": {},
   "source": [
    "# Code"
   ]
  },
  {
   "cell_type": "markdown",
   "id": "40a845d6",
   "metadata": {},
   "source": [
    "### 1. How do you create a 2D NumPy array and calculate the sum of each row?"
   ]
  },
  {
   "cell_type": "code",
   "execution_count": 5,
   "id": "03cf715b",
   "metadata": {},
   "outputs": [
    {
     "name": "stdout",
     "output_type": "stream",
     "text": [
      "2D NumPy Array:\n",
      "[[1 2 3]\n",
      " [4 5 6]\n",
      " [7 8 9]]\n",
      "\n",
      " Sum of each row :\n",
      "[ 6 15 24]\n"
     ]
    }
   ],
   "source": [
    "import numpy as np \n",
    "\n",
    "arr_2d = np.array([[1, 2, 3],\n",
    "                   [4, 5, 6], \n",
    "                   [ 7, 8, 9]])\n",
    "\n",
    "print(\"2D NumPy Array:\")\n",
    "print(arr_2d)\n",
    "\n",
    "# calxulate sum \n",
    "row_sums  = np.sum(arr_2d, axis = 1)\n",
    "print(\"\\n Sum of each row :\")\n",
    "print(row_sums)"
   ]
  },
  {
   "cell_type": "markdown",
   "id": "a6c6d8b6",
   "metadata": {},
   "source": [
    "### 2. Write a Pandas script to find the mean of a specific column in a DataFrame."
   ]
  },
  {
   "cell_type": "code",
   "execution_count": 11,
   "id": "4d3696c6",
   "metadata": {},
   "outputs": [
    {
     "name": "stdout",
     "output_type": "stream",
     "text": [
      "     Name  Age  Score\n",
      "0   Aliya   25     85\n",
      "1  Bhuvan   30     92\n",
      "2  chetan   35     78\n",
      "3   rahul   28     95\n",
      "\n",
      "Mean of the 'Score' column :87.5\n"
     ]
    }
   ],
   "source": [
    "import pandas as pd \n",
    "\n",
    "data = {'Name': ['Aliya', 'Bhuvan', 'chetan', 'rahul'],\n",
    "        'Age': [25, 30, 35, 28],\n",
    "        'Score':[85, 92, 78, 95 ]}\n",
    "df = pd.DataFrame(data)\n",
    "print(df)\n",
    "\n",
    "score_mean = df['Score'].mean()\n",
    "print(f\"\\nMean of the 'Score' column :{score_mean}\")"
   ]
  },
  {
   "cell_type": "markdown",
   "id": "2b5a055c",
   "metadata": {},
   "source": [
    "### 3.Create a scatter plot using Matplotlib"
   ]
  },
  {
   "cell_type": "code",
   "execution_count": 13,
   "id": "7eda6541",
   "metadata": {},
   "outputs": [
    {
     "data": {
      "image/png": "[encoded data removed]",
      "text/plain": [
       "<Figure size 640x480 with 1 Axes>"
      ]
     },
     "metadata": {},
     "output_type": "display_data"
    }
   ],
   "source": [
    "import matplotlib.pyplot as plt \n",
    "import numpy as np \n",
    "\n",
    "x = np.array ([1, 2, 3, 4, 5, ])\n",
    "y = np.array ([2, 3, 4, 5, 6, ])\n",
    "plt.scatter(x, y )\n",
    "plt.title('Simple Scatter Plot ')\n",
    "plt.xlabel('X-axis')\n",
    "plt.ylabel('Y-axis')\n",
    "plt.grid(True)\n",
    "plt.show()"
   ]
  },
  {
   "cell_type": "markdown",
   "id": "98580977",
   "metadata": {},
   "source": [
    "### 4. How do you calculate the correlation matrix using Seaborn and visualize it with a heatmap?\n"
   ]
  },
  {
   "cell_type": "code",
   "execution_count": 17,
   "id": "e9ae4fc4",
   "metadata": {},
   "outputs": [
    {
     "name": "stdout",
     "output_type": "stream",
     "text": [
      "Original DataFrame:\n",
      "    A  B   C  D\n",
      "0  10  5  20  1\n",
      "1  12  6  22  2\n",
      "2  15  7  25  1\n",
      "3  11  5  21  3\n",
      "4  13  8  23  2\n",
      "\n",
      "Correlation Matrix:\n",
      "          A         B         C         D\n",
      "A  1.000000  0.777516  1.000000 -0.279616\n",
      "B  0.777516  1.000000  0.777516 -0.183340\n",
      "C  1.000000  0.777516  1.000000 -0.279616\n",
      "D -0.279616 -0.183340 -0.279616  1.000000\n"
     ]
    },
    {
     "data": {
      "image/png": "[encoded data removed]",
      "text/plain": [
       "<Figure size 600x500 with 2 Axes>"
      ]
     },
     "metadata": {},
     "output_type": "display_data"
    }
   ],
   "source": [
    "import pandas as pd \n",
    "import seaborn as sns \n",
    "import matplotlib.pyplot as plt \n",
    "\n",
    "data = {'A' : [10, 12, 15, 11,13],\n",
    "        'B' : [5, 6, 7, 5, 8],\n",
    "        'C' : [20, 22, 25, 21, 23],\n",
    "        'D' : [1,2, 1, 3, 2 ]}\n",
    "df = pd.DataFrame(data)\n",
    "\n",
    "print(\"Original DataFrame:\")\n",
    "print(df)\n",
    "\n",
    "correlation_matrix =df.corr()\n",
    "print(\"\\nCorrelation Matrix:\")\n",
    "print(correlation_matrix)\n",
    "\n",
    "plt.figure(figsize = (6 , 5 ))\n",
    "sns.heatmap(correlation_matrix, annot = True, cmap = 'coolwarm' , fmt = \".2f\")\n",
    "plt.show()"
   ]
  },
  {
   "cell_type": "markdown",
   "id": "578216fa",
   "metadata": {},
   "source": [
    "### 6. Create a DataFrame and add a new column based on an existing column."
   ]
  },
  {
   "cell_type": "code",
   "execution_count": 2,
   "id": "c1424e16",
   "metadata": {},
   "outputs": [
    {
     "name": "stdout",
     "output_type": "stream",
     "text": [
      "Orignal DataFrame:\n",
      "    Product  Price\n",
      "0    Laptop   1200\n",
      "1     Mouse     25\n",
      "2  Keyboard     75\n",
      "3   Monitor    300\n",
      "\n",
      "DataFrame with new column:\n",
      "    Product  Price  Discounted_Price\n",
      "0    Laptop   1200            1080.0\n",
      "1     Mouse     25              22.5\n",
      "2  Keyboard     75              67.5\n",
      "3   Monitor    300             270.0\n"
     ]
    }
   ],
   "source": [
    "import pandas as pd \n",
    "data = { 'Product': ['Laptop' , 'Mouse' , 'Keyboard', 'Monitor'],\n",
    "         'Price'  :[1200, 25, 75 ,300]}\n",
    "df = pd.DataFrame(data)\n",
    "\n",
    "print(\"Orignal DataFrame:\")\n",
    "print(df)\n",
    "\n",
    "df['Discounted_Price'] = df['Price'] * 0.9 # 10% discount\n",
    "\n",
    "print(\"\\nDataFrame with new column:\")\n",
    "print(df)"
   ]
  },
  {
   "cell_type": "markdown",
   "id": "aaec1019",
   "metadata": {},
   "source": [
    "### 7. Write a program to perform element-wise multiplication of two NumPy arrays."
   ]
  },
  {
   "cell_type": "code",
   "execution_count": 4,
   "id": "fa41d539",
   "metadata": {},
   "outputs": [
    {
     "name": "stdout",
     "output_type": "stream",
     "text": [
      "Array 1:\n",
      "[[1 2]\n",
      " [3 4]]\n",
      "\n",
      "Array 2 :\n",
      "[[5 6]\n",
      " [7 8]]\n",
      "\n",
      "Element-wise product:\n",
      "[[ 5 12]\n",
      " [21 32]]\n"
     ]
    }
   ],
   "source": [
    "import numpy as np\n",
    "\n",
    "arr1 = np.array([[1,2],\n",
    "                 [3,4]])\n",
    "\n",
    "arr2 = np.array([[5, 6],\n",
    "                 [7, 8]])\n",
    "\n",
    "print(\"Array 1:\")\n",
    "print(arr1)\n",
    "print(\"\\nArray 2 :\")\n",
    "print(arr2)\n",
    "\n",
    "element_wise_product = arr1 * arr2\n",
    "print(\"\\nElement-wise product:\")\n",
    "print(element_wise_product)"
   ]
  },
  {
   "cell_type": "markdown",
   "id": "daf81310",
   "metadata": {},
   "source": [
    "### 8. Create a line plot with multiple lines using Matplotlib."
   ]
  },
  {
   "cell_type": "code",
   "execution_count": 6,
   "id": "7264d57d",
   "metadata": {},
   "outputs": [
    {
     "data": {
      "image/png": "[encoded data removed]",
      "text/plain": [
       "<Figure size 640x480 with 1 Axes>"
      ]
     },
     "metadata": {},
     "output_type": "display_data"
    }
   ],
   "source": [
    "import matplotlib.pyplot as plt\n",
    "import numpy as np \n",
    "\n",
    "x = np.array([1, 2, 3, 4, 5,])\n",
    "y1 = np.array([2, 3, 5, 7, 6])\n",
    "y2 = np.array([1, 4, 2, 5, 8])\n",
    "\n",
    "plt.plot(x, y1, label = 'Line 1', marker = 'o')\n",
    "plt.plot(x, y2, label = 'Line 2', marker = 'x', linestyle = '--')\n",
    "plt.title('Line plot with Multiple Lines')\n",
    "plt.xlabel('X-axis')\n",
    "plt.ylabel('Y-axis')\n",
    "plt.legend()\n",
    "plt.grid(True)\n",
    "plt.show()"
   ]
  },
  {
   "cell_type": "markdown",
   "id": "5387fe26",
   "metadata": {},
   "source": [
    "### 9. Generate a Pandas DataFrame and filter rows where a column value is greater than a threshold."
   ]
  },
  {
   "cell_type": "code",
   "execution_count": 7,
   "id": "42b915a0",
   "metadata": {},
   "outputs": [
    {
     "name": "stdout",
     "output_type": "stream",
     "text": [
      "Original DataFrame:\n",
      "          City  Population\n",
      "0     New York     8400000\n",
      "1  Los Angeles     3900000\n",
      "2      Chicago     2700000\n",
      "3      Houston     2300000\n",
      "4      Phoenix     1600000\n",
      "\n",
      "DataFrame filtered for Population > 3000000:\n",
      "          City  Population\n",
      "0     New York     8400000\n",
      "1  Los Angeles     3900000\n"
     ]
    }
   ],
   "source": [
    "import pandas as pd \n",
    "\n",
    "data = {'City' : ['New York', 'Los Angeles', 'Chicago', 'Houston', 'Phoenix'], \n",
    "        'Population' : [8400000, 3900000, 2700000, 2300000,1600000]}\n",
    "df = pd.DataFrame(data)\n",
    "\n",
    "print(\"Original DataFrame:\")\n",
    "print(df)\n",
    "\n",
    "threshold = 3000000\n",
    "filtered_df = df[df['Population'] > threshold]\n",
    "\n",
    "print(f\"\\nDataFrame filtered for Population > {threshold}:\")\n",
    "print(filtered_df)"
   ]
  },
  {
   "cell_type": "markdown",
   "id": "5c0d95c4",
   "metadata": {},
   "source": [
    "### 10. Create a histogram using Seaborn to visualize a distribution."
   ]
  },
  {
   "cell_type": "code",
   "execution_count": 10,
   "id": "215a2898",
   "metadata": {},
   "outputs": [
    {
     "name": "stdout",
     "output_type": "stream",
     "text": [
      "First 5 rows of the DataFrame:\n",
      "       Value\n",
      "0  54.967142\n",
      "1  48.617357\n",
      "2  56.476885\n",
      "3  65.230299\n",
      "4  47.658466\n"
     ]
    },
    {
     "data": {
      "image/png": "[encoded data removed]",
      "text/plain": [
       "<Figure size 800x600 with 1 Axes>"
      ]
     },
     "metadata": {},
     "output_type": "display_data"
    }
   ],
   "source": [
    "import seaborn as sns\n",
    "import matplotlib.pyplot as plt\n",
    "import numpy as np\n",
    "import pandas as pd\n",
    "\n",
    "# Generate sample data for a distribution\n",
    "np.random.seed(42) # for reproducibility\n",
    "data = np.random.normal(loc=50, scale=10, size=1000) # Mean 50, Std Dev 10\n",
    "df = pd.DataFrame({'Value': data})\n",
    "\n",
    "print(\"First 5 rows of the DataFrame:\")\n",
    "print(df.head())\n",
    "\n",
    "# Create a histogram using Seaborn\n",
    "plt.figure(figsize=(8, 6))\n",
    "sns.histplot(df['Value'], kde=True, bins=30)\n",
    "plt.title('Distribution of Values')\n",
    "plt.xlabel('Value')\n",
    "plt.ylabel('Frequency')\n",
    "plt.show()"
   ]
  },
  {
   "cell_type": "markdown",
   "id": "2eee4a24",
   "metadata": {},
   "source": [
    "### 11. Perform matrix multiplication using NumPy."
   ]
  },
  {
   "cell_type": "code",
   "execution_count": 14,
   "id": "3ccb7ff1",
   "metadata": {},
   "outputs": [
    {
     "name": "stdout",
     "output_type": "stream",
     "text": [
      "Matrix A:\n",
      "[[1 2]\n",
      " [3 4]]\n",
      "Matrix B:\n",
      "[[5 6]\n",
      " [7 8]]\n",
      "\n",
      " Matrix Product (A @ B):\n",
      "[[19 22]\n",
      " [43 50]]\n"
     ]
    }
   ],
   "source": [
    "import numpy as np \n",
    "\n",
    "matrix_a = np.array([[1, 2],\n",
    "                     [3,4]])\n",
    "matrix_b = np.array([[5, 6],\n",
    "                     [7, 8]])\n",
    "\n",
    "print(\"Matrix A:\")\n",
    "print(matrix_a)\n",
    "print(\"Matrix B:\")\n",
    "print(matrix_b)\n",
    "\n",
    "matrix_product = matrix_a @ matrix_b\n",
    "\n",
    "print(\"\\n Matrix Product (A @ B):\")\n",
    "print(matrix_product)"
   ]
  },
  {
   "cell_type": "markdown",
   "id": "74701e76",
   "metadata": {},
   "source": [
    "### 12. Use Pandas to load a CSV file and display its first 5 rows."
   ]
  },
  {
   "cell_type": "code",
   "execution_count": 15,
   "id": "f821c612",
   "metadata": {},
   "outputs": [
    {
     "name": "stdout",
     "output_type": "stream",
     "text": [
      "Loaded 'sample_data.csv':\n",
      "   col1 col2   col3\n",
      "0     1    a   True\n",
      "1     2    b  False\n",
      "2     3    c   True\n",
      "3     4    d  False\n",
      "4     5    e   True\n"
     ]
    }
   ],
   "source": [
    "import pandas as pd\n",
    "import os\n",
    "\n",
    "# Create a dummy CSV file for demonstration\n",
    "csv_content = \"\"\"col1,col2,col3\n",
    "1,a,true\n",
    "2,b,false\n",
    "3,c,true\n",
    "4,d,false\n",
    "5,e,true\n",
    "6,f,false\n",
    "7,g,true\n",
    "\"\"\"\n",
    "file_name = 'sample_data.csv'\n",
    "with open(file_name, 'w') as f:\n",
    "    f.write(csv_content)\n",
    "\n",
    "# Load the CSV file into a Pandas DataFrame\n",
    "try:\n",
    "    df_csv = pd.read_csv(file_name)\n",
    "    print(f\"Loaded '{file_name}':\")\n",
    "    # Display the first 5 rows\n",
    "    print(df_csv.head())\n",
    "except FileNotFoundError:\n",
    "    print(f\"Error: The file '{file_name}' was not found.\")\n",
    "finally:\n",
    "    # Clean up the dummy file\n",
    "    if os.path.exists(file_name):\n",
    "        os.remove(file_name)"
   ]
  },
  {
   "cell_type": "markdown",
   "id": "e05ea107",
   "metadata": {},
   "source": [
    "### 13. Create a 3D scatter plot using Plotly."
   ]
  },
  {
   "cell_type": "code",
   "execution_count": 16,
   "id": "9ccb1c9e",
   "metadata": {},
   "outputs": [
    {
     "data": {
      "application/vnd.plotly.v1+json": {
       "config": {
        "plotlyServerURL": "https://plot.ly"
       },
       "data": [
        {
         "hovertemplate": "X=%{x}<br>Y=%{y}<br>Z=%{z}<br>Size=%{marker.size}<br>Color=%{marker.color}<extra></extra>",
         "legendgroup": "",
         "marker": {
          "color": {
           "bdata": "AAAAAAoAAABbAAAAOAAAAFgAAAAxAAAAFgAAAB4AAABdAAAAKQAAAGIAAAAGAAAADwAAAFkAAAA7AAAAAQAAAAAAAAAvAAAACwAAAEQAAAAkAAAAHwAAAAgAAABiAAAAEgAAAC8AAABPAAAAAgAAABMAAAAXAAAANQAAACAAAAAXAAAASgAAAEcAAAAjAAAAJQAAAFMAAABiAAAAWAAAAGIAAAAYAAAAXAAAABEAAABRAAAAQQAAADUAAAAiAAAATwAAADwAAAA=",
           "dtype": "i4"
          },
          "coloraxis": "coloraxis",
          "size": {
           "bdata": "BQAAAAUAAAAHAAAAEgAAAAYAAAAJAAAAEAAAAA4AAAAKAAAACwAAAAgAAAALAAAADwAAAAwAAAAPAAAABQAAABMAAAAKAAAADAAAAAkAAAAIAAAABgAAAAoAAAAKAAAADwAAABMAAAAFAAAADQAAABAAAAAPAAAACgAAABEAAAAHAAAACAAAABAAAAAPAAAACAAAAAcAAAAOAAAABwAAABMAAAAHAAAACAAAAAsAAAAIAAAADQAAAAUAAAAMAAAACwAAAAYAAAA=",
           "dtype": "i4"
          },
          "sizemode": "area",
          "sizeref": 0.0475,
          "symbol": "circle"
         },
         "mode": "markers",
         "name": "",
         "scene": "scene",
         "showlegend": false,
         "type": "scatter3d",
         "x": {
          "bdata": "7FFfHnf41z9U1rtoQGzuP1FnHo9+bOc/sCxj1jUo4z+EISI3a/jDP0x/meGg98M/cFVknSK9rT+1t1UJt7frP61LkoxVPOM/goKa0oeo5j+AfjgHGhSVP6VT42KACe8/9hPBv16j6j+YMAOQ7S3LPzgZ4F8KRsc/SDThicx5xz9oquR0tHjTP2M8BwDOyuA/WjsvuPyk2z8OvTKMf6PSPyd1mYVMlOM/fCS/UO/awT9UQMp3f7LSPzi33PF4ctc/3I+5KEAw3T8uOnlWKSDpP3SQHhbpjsk/E9Tux5t04D8X991lD/XiP3BDCTdZyKc/iqK45gFx4z+0PjUHvNPFP6CqbKA4p7A/idDEM0Vd7j+gzkAmdebuP5+qih1k3uk/6rIgwMp+0z9we2MnCgG5P2HP9qg85eU/3FJ3XXUr3D+wF4XT5T2/Pxhiqn76sN8/AGgYS1+boT8xcpAZJxntPzA4denZj9A/dn0F72Ez5T8euGYDE/PTP6ju1LBlpOA/PFNFjqZ+4T9cQoCQT6nHPw==",
          "dtype": "f8"
         },
         "y": {
          "bdata": "5n9eV9YG7z9YjMxZ483oP0OilBVgEO4/D+a092yi7D/9uegi/yHjP7RgTmX+f+0/uBNB0nGntj9MVlVo9xXJP6DXg/0HKKc/9prBTjbS1D/2gvq1FuDYPxpKUVTIXdE/TNVYhgSF6j/G17jnC9XWP8Q027zU+tE/h58aLcRd4T9Iib0UzgnCP7w7qQCZq+k/6BeAQMAVsz8okLHpk5TvP9JblKk6tug/qCCy9INvyT8AeDUHXJ52P1edy5BCGOo/BmrYSpOe5j/GIynXBlTnP8WAbCY/rug/uEGkHZf0sj/eZzU9GvHWP4BZRz2Yqb0/g3BmE4ue6z/MPMzpDvLjP2Bmw+huLdU/OL7dK1xFsD9wyVllIufTPxjPU7XNz9Q/Kn1dDu9Y5z+rUBnt3mbkP5i2PvoLZOw/9jsQ88Q43j/wQxh/up2+P6pJZbvm0uY/EA3j4llY6D8HpvGY+/XhP8Y2Bl3Dq+g/2M5S2Fia3z8DuNcyOrrgP7oa4wDVXNs/oC08uHgHmj/Qe3TGxZ67Pw==",
          "dtype": "f8"
         },
         "z": {
          "bdata": "0DBUeXwXoD9zx+ZdeV3kP56WgYxoHtQ/XjXICjZG4D/nrI7YyArtP4yxq8nO6M8/NJhRvLZD2j9I78+UeS3oP6DtFR9CSc0/6Ocpk/S0sz9m646tSYvSP3BlFi7mosQ/qlZ/ShXA7T+Yui5FH9zpP68GbPTXROQ/zH3TUQHj6z/Zrt+ArrfpP1QGqhaH4cc/nnqI49eP7D8ZIUypSkLhP58EfbyM1uk/V9lsqces7D9EL0E/K1rUP7BOtehcLLw/UPBcuvoszT/SEAHou1XbP88HaU0tLeo/lBg43RqL6z+AxU1U1nl8P1boIroKWOA/iO7go9y22j/MNxRbB27MP5gGnyh/r74/FPjzqXyb1T98VKz4UCzuP3QHwFlbr9Q/F387yu6Z4D86h52dIX/mPzjmhBi1Rdc/ZgIEvdYY7z8UzfxEXszuP/gHkn0zHdA/7LqyZevS3z8ySC8Zl0HTP1xf+5/TOtI/oPASkdjioj/ADegPjYHjP+PmpFHyFeA/0IAdQmxbqj+2tML6V9XRPw==",
          "dtype": "f8"
         }
        }
       ],
       "layout": {
        "coloraxis": {
         "colorbar": {
          "title": {
           "text": "Color"
          }
         },
         "colorscale": [
          [
           0,
           "#0d0887"
          ],
          [
           0.1111111111111111,
           "#46039f"
          ],
          [
           0.2222222222222222,
           "#7201a8"
          ],
          [
           0.3333333333333333,
           "#9c179e"
          ],
          [
           0.4444444444444444,
           "#bd3786"
          ],
          [
           0.5555555555555556,
           "#d8576b"
          ],
          [
           0.6666666666666666,
           "#ed7953"
          ],
          [
           0.7777777777777778,
           "#fb9f3a"
          ],
          [
           0.8888888888888888,
           "#fdca26"
          ],
          [
           1,
           "#f0f921"
          ]
         ]
        },
        "legend": {
         "itemsizing": "constant",
         "tracegroupgap": 0
        },
        "scene": {
         "domain": {
          "x": [
           0,
           1
          ],
          "y": [
           0,
           1
          ]
         },
         "xaxis": {
          "title": {
           "text": "X"
          }
         },
         "yaxis": {
          "title": {
           "text": "Y"
          }
         },
         "zaxis": {
          "title": {
           "text": "Z"
          }
         }
        },
        "template": {
         "data": {
          "bar": [
           {
            "error_x": {
             "color": "#2a3f5f"
            },
            "error_y": {
             "color": "#2a3f5f"
            },
            "marker": {
             "line": {
              "color": "#E5ECF6",
              "width": 0.5
             },
             "pattern": {
              "fillmode": "overlay",
              "size": 10,
              "solidity": 0.2
             }
            },
            "type": "bar"
           }
          ],
          "barpolar": [
           {
            "marker": {
             "line": {
              "color": "#E5ECF6",
              "width": 0.5
             },
             "pattern": {
              "fillmode": "overlay",
              "size": 10,
              "solidity": 0.2
             }
            },
            "type": "barpolar"
           }
          ],
          "carpet": [
           {
            "aaxis": {
             "endlinecolor": "#2a3f5f",
             "gridcolor": "white",
             "linecolor": "white",
             "minorgridcolor": "white",
             "startlinecolor": "#2a3f5f"
            },
            "baxis": {
             "endlinecolor": "#2a3f5f",
             "gridcolor": "white",
             "linecolor": "white",
             "minorgridcolor": "white",
             "startlinecolor": "#2a3f5f"
            },
            "type": "carpet"
           }
          ],
          "choropleth": [
           {
            "colorbar": {
             "outlinewidth": 0,
             "ticks": ""
            },
            "type": "choropleth"
           }
          ],
          "contour": [
           {
            "colorbar": {
             "outlinewidth": 0,
             "ticks": ""
            },
            "colorscale": [
             [
              0,
              "#0d0887"
             ],
             [
              0.1111111111111111,
              "#46039f"
             ],
             [
              0.2222222222222222,
              "#7201a8"
             ],
             [
              0.3333333333333333,
              "#9c179e"
             ],
             [
              0.4444444444444444,
              "#bd3786"
             ],
             [
              0.5555555555555556,
              "#d8576b"
             ],
             [
              0.6666666666666666,
              "#ed7953"
             ],
             [
              0.7777777777777778,
              "#fb9f3a"
             ],
             [
              0.8888888888888888,
              "#fdca26"
             ],
             [
              1,
              "#f0f921"
             ]
            ],
            "type": "contour"
           }
          ],
          "contourcarpet": [
           {
            "colorbar": {
             "outlinewidth": 0,
             "ticks": ""
            },
            "type": "contourcarpet"
           }
          ],
          "heatmap": [
           {
            "colorbar": {
             "outlinewidth": 0,
             "ticks": ""
            },
            "colorscale": [
             [
              0,
              "#0d0887"
             ],
             [
              0.1111111111111111,
              "#46039f"
             ],
             [
              0.2222222222222222,
              "#7201a8"
             ],
             [
              0.3333333333333333,
              "#9c179e"
             ],
             [
              0.4444444444444444,
              "#bd3786"
             ],
             [
              0.5555555555555556,
              "#d8576b"
             ],
             [
              0.6666666666666666,
              "#ed7953"
             ],
             [
              0.7777777777777778,
              "#fb9f3a"
             ],
             [
              0.8888888888888888,
              "#fdca26"
             ],
             [
              1,
              "#f0f921"
             ]
            ],
            "type": "heatmap"
           }
          ],
          "histogram": [
           {
            "marker": {
             "pattern": {
              "fillmode": "overlay",
              "size": 10,
              "solidity": 0.2
             }
            },
            "type": "histogram"
           }
          ],
          "histogram2d": [
           {
            "colorbar": {
             "outlinewidth": 0,
             "ticks": ""
            },
            "colorscale": [
             [
              0,
              "#0d0887"
             ],
             [
              0.1111111111111111,
              "#46039f"
             ],
             [
              0.2222222222222222,
              "#7201a8"
             ],
             [
              0.3333333333333333,
              "#9c179e"
             ],
             [
              0.4444444444444444,
              "#bd3786"
             ],
             [
              0.5555555555555556,
              "#d8576b"
             ],
             [
              0.6666666666666666,
              "#ed7953"
             ],
             [
              0.7777777777777778,
              "#fb9f3a"
             ],
             [
              0.8888888888888888,
              "#fdca26"
             ],
             [
              1,
              "#f0f921"
             ]
            ],
            "type": "histogram2d"
           }
          ],
          "histogram2dcontour": [
           {
            "colorbar": {
             "outlinewidth": 0,
             "ticks": ""
            },
            "colorscale": [
             [
              0,
              "#0d0887"
             ],
             [
              0.1111111111111111,
              "#46039f"
             ],
             [
              0.2222222222222222,
              "#7201a8"
             ],
             [
              0.3333333333333333,
              "#9c179e"
             ],
             [
              0.4444444444444444,
              "#bd3786"
             ],
             [
              0.5555555555555556,
              "#d8576b"
             ],
             [
              0.6666666666666666,
              "#ed7953"
             ],
             [
              0.7777777777777778,
              "#fb9f3a"
             ],
             [
              0.8888888888888888,
              "#fdca26"
             ],
             [
              1,
              "#f0f921"
             ]
            ],
            "type": "histogram2dcontour"
           }
          ],
          "mesh3d": [
           {
            "colorbar": {
             "outlinewidth": 0,
             "ticks": ""
            },
            "type": "mesh3d"
           }
          ],
          "parcoords": [
           {
            "line": {
             "colorbar": {
              "outlinewidth": 0,
              "ticks": ""
             }
            },
            "type": "parcoords"
           }
          ],
          "pie": [
           {
            "automargin": true,
            "type": "pie"
           }
          ],
          "scatter": [
           {
            "fillpattern": {
             "fillmode": "overlay",
             "size": 10,
             "solidity": 0.2
            },
            "type": "scatter"
           }
          ],
          "scatter3d": [
           {
            "line": {
             "colorbar": {
              "outlinewidth": 0,
              "ticks": ""
             }
            },
            "marker": {
             "colorbar": {
              "outlinewidth": 0,
              "ticks": ""
             }
            },
            "type": "scatter3d"
           }
          ],
          "scattercarpet": [
           {
            "marker": {
             "colorbar": {
              "outlinewidth": 0,
              "ticks": ""
             }
            },
            "type": "scattercarpet"
           }
          ],
          "scattergeo": [
           {
            "marker": {
             "colorbar": {
              "outlinewidth": 0,
              "ticks": ""
             }
            },
            "type": "scattergeo"
           }
          ],
          "scattergl": [
           {
            "marker": {
             "colorbar": {
              "outlinewidth": 0,
              "ticks": ""
             }
            },
            "type": "scattergl"
           }
          ],
          "scattermap": [
           {
            "marker": {
             "colorbar": {
              "outlinewidth": 0,
              "ticks": ""
             }
            },
            "type": "scattermap"
           }
          ],
          "scattermapbox": [
           {
            "marker": {
             "colorbar": {
              "outlinewidth": 0,
              "ticks": ""
             }
            },
            "type": "scattermapbox"
           }
          ],
          "scatterpolar": [
           {
            "marker": {
             "colorbar": {
              "outlinewidth": 0,
              "ticks": ""
             }
            },
            "type": "scatterpolar"
           }
          ],
          "scatterpolargl": [
           {
            "marker": {
             "colorbar": {
              "outlinewidth": 0,
              "ticks": ""
             }
            },
            "type": "scatterpolargl"
           }
          ],
          "scatterternary": [
           {
            "marker": {
             "colorbar": {
              "outlinewidth": 0,
              "ticks": ""
             }
            },
            "type": "scatterternary"
           }
          ],
          "surface": [
           {
            "colorbar": {
             "outlinewidth": 0,
             "ticks": ""
            },
            "colorscale": [
             [
              0,
              "#0d0887"
             ],
             [
              0.1111111111111111,
              "#46039f"
             ],
             [
              0.2222222222222222,
              "#7201a8"
             ],
             [
              0.3333333333333333,
              "#9c179e"
             ],
             [
              0.4444444444444444,
              "#bd3786"
             ],
             [
              0.5555555555555556,
              "#d8576b"
             ],
             [
              0.6666666666666666,
              "#ed7953"
             ],
             [
              0.7777777777777778,
              "#fb9f3a"
             ],
             [
              0.8888888888888888,
              "#fdca26"
             ],
             [
              1,
              "#f0f921"
             ]
            ],
            "type": "surface"
           }
          ],
          "table": [
           {
            "cells": {
             "fill": {
              "color": "#EBF0F8"
             },
             "line": {
              "color": "white"
             }
            },
            "header": {
             "fill": {
              "color": "#C8D4E3"
             },
             "line": {
              "color": "white"
             }
            },
            "type": "table"
           }
          ]
         },
         "layout": {
          "annotationdefaults": {
           "arrowcolor": "#2a3f5f",
           "arrowhead": 0,
           "arrowwidth": 1
          },
          "autotypenumbers": "strict",
          "coloraxis": {
           "colorbar": {
            "outlinewidth": 0,
            "ticks": ""
           }
          },
          "colorscale": {
           "diverging": [
            [
             0,
             "#8e0152"
            ],
            [
             0.1,
             "#c51b7d"
            ],
            [
             0.2,
             "#de77ae"
            ],
            [
             0.3,
             "#f1b6da"
            ],
            [
             0.4,
             "#fde0ef"
            ],
            [
             0.5,
             "#f7f7f7"
            ],
            [
             0.6,
             "#e6f5d0"
            ],
            [
             0.7,
             "#b8e186"
            ],
            [
             0.8,
             "#7fbc41"
            ],
            [
             0.9,
             "#4d9221"
            ],
            [
             1,
             "#276419"
            ]
           ],
           "sequential": [
            [
             0,
             "#0d0887"
            ],
            [
             0.1111111111111111,
             "#46039f"
            ],
            [
             0.2222222222222222,
             "#7201a8"
            ],
            [
             0.3333333333333333,
             "#9c179e"
            ],
            [
             0.4444444444444444,
             "#bd3786"
            ],
            [
             0.5555555555555556,
             "#d8576b"
            ],
            [
             0.6666666666666666,
             "#ed7953"
            ],
            [
             0.7777777777777778,
             "#fb9f3a"
            ],
            [
             0.8888888888888888,
             "#fdca26"
            ],
            [
             1,
             "#f0f921"
            ]
           ],
           "sequentialminus": [
            [
             0,
             "#0d0887"
            ],
            [
             0.1111111111111111,
             "#46039f"
            ],
            [
             0.2222222222222222,
             "#7201a8"
            ],
            [
             0.3333333333333333,
             "#9c179e"
            ],
            [
             0.4444444444444444,
             "#bd3786"
            ],
            [
             0.5555555555555556,
             "#d8576b"
            ],
            [
             0.6666666666666666,
             "#ed7953"
            ],
            [
             0.7777777777777778,
             "#fb9f3a"
            ],
            [
             0.8888888888888888,
             "#fdca26"
            ],
            [
             1,
             "#f0f921"
            ]
           ]
          },
          "colorway": [
           "#636efa",
           "#EF553B",
           "#00cc96",
           "#ab63fa",
           "#FFA15A",
           "#19d3f3",
           "#FF6692",
           "#B6E880",
           "#FF97FF",
           "#FECB52"
          ],
          "font": {
           "color": "#2a3f5f"
          },
          "geo": {
           "bgcolor": "white",
           "lakecolor": "white",
           "landcolor": "#E5ECF6",
           "showlakes": true,
           "showland": true,
           "subunitcolor": "white"
          },
          "hoverlabel": {
           "align": "left"
          },
          "hovermode": "closest",
          "mapbox": {
           "style": "light"
          },
          "paper_bgcolor": "white",
          "plot_bgcolor": "#E5ECF6",
          "polar": {
           "angularaxis": {
            "gridcolor": "white",
            "linecolor": "white",
            "ticks": ""
           },
           "bgcolor": "#E5ECF6",
           "radialaxis": {
            "gridcolor": "white",
            "linecolor": "white",
            "ticks": ""
           }
          },
          "scene": {
           "xaxis": {
            "backgroundcolor": "#E5ECF6",
            "gridcolor": "white",
            "gridwidth": 2,
            "linecolor": "white",
            "showbackground": true,
            "ticks": "",
            "zerolinecolor": "white"
           },
           "yaxis": {
            "backgroundcolor": "#E5ECF6",
            "gridcolor": "white",
            "gridwidth": 2,
            "linecolor": "white",
            "showbackground": true,
            "ticks": "",
            "zerolinecolor": "white"
           },
           "zaxis": {
            "backgroundcolor": "#E5ECF6",
            "gridcolor": "white",
            "gridwidth": 2,
            "linecolor": "white",
            "showbackground": true,
            "ticks": "",
            "zerolinecolor": "white"
           }
          },
          "shapedefaults": {
           "line": {
            "color": "#2a3f5f"
           }
          },
          "ternary": {
           "aaxis": {
            "gridcolor": "white",
            "linecolor": "white",
            "ticks": ""
           },
           "baxis": {
            "gridcolor": "white",
            "linecolor": "white",
            "ticks": ""
           },
           "bgcolor": "#E5ECF6",
           "caxis": {
            "gridcolor": "white",
            "linecolor": "white",
            "ticks": ""
           }
          },
          "title": {
           "x": 0.05
          },
          "xaxis": {
           "automargin": true,
           "gridcolor": "white",
           "linecolor": "white",
           "ticks": "",
           "title": {
            "standoff": 15
           },
           "zerolinecolor": "white",
           "zerolinewidth": 2
          },
          "yaxis": {
           "automargin": true,
           "gridcolor": "white",
           "linecolor": "white",
           "ticks": "",
           "title": {
            "standoff": 15
           },
           "zerolinecolor": "white",
           "zerolinewidth": 2
          }
         }
        },
        "title": {
         "text": "3D Scatter Plot"
        }
       }
      }
     },
     "metadata": {},
     "output_type": "display_data"
    }
   ],
   "source": [
    "import plotly.express as px\n",
    "import pandas as pd\n",
    "import numpy as np\n",
    "\n",
    "# Generate sample 3D data\n",
    "np.random.seed(42)\n",
    "data_3d = {\n",
    "    'X': np.random.rand(50),\n",
    "    'Y': np.random.rand(50),\n",
    "    'Z': np.random.rand(50),\n",
    "    'Size': np.random.randint(5, 20, 50),\n",
    "    'Color': np.random.randint(0, 100, 50)\n",
    "}\n",
    "df_3d = pd.DataFrame(data_3d)\n",
    "\n",
    "# Create a 3D scatter plot\n",
    "fig = px.scatter_3d(df_3d, x='X', y='Y', z='Z',\n",
    "                    size='Size', color='Color',\n",
    "                    title='3D Scatter Plot')\n",
    "fig.show()"
   ]
  }
 ],
 "metadata": {
  "kernelspec": {
   "display_name": "base",
   "language": "python",
   "name": "python3"
  },
  "language_info": {
   "codemirror_mode": {
    "name": "ipython",
    "version": 3
   },
   "file_extension": ".py",
   "mimetype": "text/x-python",
   "name": "python",
   "nbconvert_exporter": "python",
   "pygments_lexer": "ipython3",
   "version": "3.13.2"
  }
 },
 "nbformat": 4,
 "nbformat_minor": 5
}
